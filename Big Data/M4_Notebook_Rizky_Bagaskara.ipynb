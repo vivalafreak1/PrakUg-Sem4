{
  "cells": [
    {
      "cell_type": "markdown",
      "metadata": {
        "id": "A09DOOVG5IMW"
      },
      "source": [
        "### Overview Dataset\n",
        "\n",
        "\"Data Komponen Beton\".\n",
        "\n",
        "Data set ini berisikan beberapa kategori sebagai berikut\n",
        "* cement (kg)\n",
        "* slag (blast furnace slag, kg)\n",
        "* ash (fly ash, kg)\n",
        "* water (kg)\n",
        "* superplastic (superplasticizer, kg)\n",
        "* coarseagg (coarse aggregate, kg)\n",
        "* fineagg (fine aggregate, kg)\n",
        "* age (days, 1-365)\n",
        "* strength (Concrete compressive strength, MPa)"
      ]
    },
    {
      "cell_type": "markdown",
      "metadata": {
        "id": "VPdnMX0m5IMY"
      },
      "source": [
        "# Exploratory Data Analysis (EDA)\n"
      ]
    },
    {
      "cell_type": "markdown",
      "metadata": {
        "id": "Q8mzK5555IMY"
      },
      "source": [
        "# Instruksi Tugas Praktikum FIKTI dan FTI\n",
        "\n",
        "1. Buat univariate dan bivariate analysis untuk data set di atas\n",
        "2. Jelaskan kesimpulan yang bisa di ambil dari analysis yg anda lakukan\n"
      ]
    },
    {
      "cell_type": "markdown",
      "metadata": {
        "id": "El0oBuKo5IMZ"
      },
      "source": [
        "<a id=\"1\"></a>\n",
        "\n",
        "# 1. Pengambilan Data:"
      ]
    },
    {
      "cell_type": "markdown",
      "metadata": {
        "id": "37hu0FLS5IMZ"
      },
      "source": [
        "## 1.1 Import packages"
      ]
    },
    {
      "cell_type": "code",
      "execution_count": null,
      "metadata": {
        "id": "a08hHcDY5IMa"
      },
      "outputs": [],
      "source": [
        "import numpy as np \n",
        "import pandas as pd \n",
        "import seaborn as sns\n",
        "import matplotlib.pyplot as plt\n",
        "%matplotlib inline\n",
        "import warnings\n",
        "warnings.filterwarnings(\"ignore\")\n",
        "from scipy.stats import ttest_ind, ttest_rel\n",
        "from scipy import stats"
      ]
    },
    {
      "cell_type": "markdown",
      "metadata": {
        "id": "omFOO_RG5IMa"
      },
      "source": [
        "## 1.2 Import data"
      ]
    },
    {
      "cell_type": "code",
      "execution_count": null,
      "metadata": {
        "colab": {
          "base_uri": "https://localhost:8080/",
          "height": 363
        },
        "id": "dNMpYLrl5IMb",
        "outputId": "722ce99b-7782-4cb3-d6df-cd536817140b"
      },
      "outputs": [
        {
          "output_type": "execute_result",
          "data": {
            "text/plain": [
              "   cement   slag    ash  water  superplastic  coarseagg  fineagg  age  \\\n",
              "0   141.3  212.0    0.0  203.5           0.0      971.8    748.5   28   \n",
              "1   168.9   42.2  124.3  158.3          10.8     1080.8    796.2   14   \n",
              "2   250.0    0.0   95.7  187.4           5.5      956.9    861.2   28   \n",
              "3   266.0  114.0    0.0  228.0           0.0      932.0    670.0   28   \n",
              "4   154.8  183.4    0.0  193.3           9.1     1047.4    696.7   28   \n",
              "5   255.0    0.0    0.0  192.0           0.0      889.8    945.0   90   \n",
              "6   166.8  250.2    0.0  203.5           0.0      975.6    692.6    7   \n",
              "7   251.4    0.0  118.3  188.5           6.4     1028.4    757.7   56   \n",
              "8   296.0    0.0    0.0  192.0           0.0     1085.0    765.0   28   \n",
              "9   155.0  184.0  143.0  194.0           9.0      880.0    699.0   28   \n",
              "\n",
              "   strength  \n",
              "0     29.89  \n",
              "1     23.51  \n",
              "2     29.22  \n",
              "3     45.85  \n",
              "4     18.29  \n",
              "5     21.86  \n",
              "6     15.75  \n",
              "7     36.64  \n",
              "8     21.65  \n",
              "9     28.99  "
            ],
            "text/html": [
              "\n",
              "  <div id=\"df-4b94ce44-fea8-479d-b2bd-ed4f81d67201\">\n",
              "    <div class=\"colab-df-container\">\n",
              "      <div>\n",
              "<style scoped>\n",
              "    .dataframe tbody tr th:only-of-type {\n",
              "        vertical-align: middle;\n",
              "    }\n",
              "\n",
              "    .dataframe tbody tr th {\n",
              "        vertical-align: top;\n",
              "    }\n",
              "\n",
              "    .dataframe thead th {\n",
              "        text-align: right;\n",
              "    }\n",
              "</style>\n",
              "<table border=\"1\" class=\"dataframe\">\n",
              "  <thead>\n",
              "    <tr style=\"text-align: right;\">\n",
              "      <th></th>\n",
              "      <th>cement</th>\n",
              "      <th>slag</th>\n",
              "      <th>ash</th>\n",
              "      <th>water</th>\n",
              "      <th>superplastic</th>\n",
              "      <th>coarseagg</th>\n",
              "      <th>fineagg</th>\n",
              "      <th>age</th>\n",
              "      <th>strength</th>\n",
              "    </tr>\n",
              "  </thead>\n",
              "  <tbody>\n",
              "    <tr>\n",
              "      <th>0</th>\n",
              "      <td>141.3</td>\n",
              "      <td>212.0</td>\n",
              "      <td>0.0</td>\n",
              "      <td>203.5</td>\n",
              "      <td>0.0</td>\n",
              "      <td>971.8</td>\n",
              "      <td>748.5</td>\n",
              "      <td>28</td>\n",
              "      <td>29.89</td>\n",
              "    </tr>\n",
              "    <tr>\n",
              "      <th>1</th>\n",
              "      <td>168.9</td>\n",
              "      <td>42.2</td>\n",
              "      <td>124.3</td>\n",
              "      <td>158.3</td>\n",
              "      <td>10.8</td>\n",
              "      <td>1080.8</td>\n",
              "      <td>796.2</td>\n",
              "      <td>14</td>\n",
              "      <td>23.51</td>\n",
              "    </tr>\n",
              "    <tr>\n",
              "      <th>2</th>\n",
              "      <td>250.0</td>\n",
              "      <td>0.0</td>\n",
              "      <td>95.7</td>\n",
              "      <td>187.4</td>\n",
              "      <td>5.5</td>\n",
              "      <td>956.9</td>\n",
              "      <td>861.2</td>\n",
              "      <td>28</td>\n",
              "      <td>29.22</td>\n",
              "    </tr>\n",
              "    <tr>\n",
              "      <th>3</th>\n",
              "      <td>266.0</td>\n",
              "      <td>114.0</td>\n",
              "      <td>0.0</td>\n",
              "      <td>228.0</td>\n",
              "      <td>0.0</td>\n",
              "      <td>932.0</td>\n",
              "      <td>670.0</td>\n",
              "      <td>28</td>\n",
              "      <td>45.85</td>\n",
              "    </tr>\n",
              "    <tr>\n",
              "      <th>4</th>\n",
              "      <td>154.8</td>\n",
              "      <td>183.4</td>\n",
              "      <td>0.0</td>\n",
              "      <td>193.3</td>\n",
              "      <td>9.1</td>\n",
              "      <td>1047.4</td>\n",
              "      <td>696.7</td>\n",
              "      <td>28</td>\n",
              "      <td>18.29</td>\n",
              "    </tr>\n",
              "    <tr>\n",
              "      <th>5</th>\n",
              "      <td>255.0</td>\n",
              "      <td>0.0</td>\n",
              "      <td>0.0</td>\n",
              "      <td>192.0</td>\n",
              "      <td>0.0</td>\n",
              "      <td>889.8</td>\n",
              "      <td>945.0</td>\n",
              "      <td>90</td>\n",
              "      <td>21.86</td>\n",
              "    </tr>\n",
              "    <tr>\n",
              "      <th>6</th>\n",
              "      <td>166.8</td>\n",
              "      <td>250.2</td>\n",
              "      <td>0.0</td>\n",
              "      <td>203.5</td>\n",
              "      <td>0.0</td>\n",
              "      <td>975.6</td>\n",
              "      <td>692.6</td>\n",
              "      <td>7</td>\n",
              "      <td>15.75</td>\n",
              "    </tr>\n",
              "    <tr>\n",
              "      <th>7</th>\n",
              "      <td>251.4</td>\n",
              "      <td>0.0</td>\n",
              "      <td>118.3</td>\n",
              "      <td>188.5</td>\n",
              "      <td>6.4</td>\n",
              "      <td>1028.4</td>\n",
              "      <td>757.7</td>\n",
              "      <td>56</td>\n",
              "      <td>36.64</td>\n",
              "    </tr>\n",
              "    <tr>\n",
              "      <th>8</th>\n",
              "      <td>296.0</td>\n",
              "      <td>0.0</td>\n",
              "      <td>0.0</td>\n",
              "      <td>192.0</td>\n",
              "      <td>0.0</td>\n",
              "      <td>1085.0</td>\n",
              "      <td>765.0</td>\n",
              "      <td>28</td>\n",
              "      <td>21.65</td>\n",
              "    </tr>\n",
              "    <tr>\n",
              "      <th>9</th>\n",
              "      <td>155.0</td>\n",
              "      <td>184.0</td>\n",
              "      <td>143.0</td>\n",
              "      <td>194.0</td>\n",
              "      <td>9.0</td>\n",
              "      <td>880.0</td>\n",
              "      <td>699.0</td>\n",
              "      <td>28</td>\n",
              "      <td>28.99</td>\n",
              "    </tr>\n",
              "  </tbody>\n",
              "</table>\n",
              "</div>\n",
              "      <button class=\"colab-df-convert\" onclick=\"convertToInteractive('df-4b94ce44-fea8-479d-b2bd-ed4f81d67201')\"\n",
              "              title=\"Convert this dataframe to an interactive table.\"\n",
              "              style=\"display:none;\">\n",
              "        \n",
              "  <svg xmlns=\"http://www.w3.org/2000/svg\" height=\"24px\"viewBox=\"0 0 24 24\"\n",
              "       width=\"24px\">\n",
              "    <path d=\"M0 0h24v24H0V0z\" fill=\"none\"/>\n",
              "    <path d=\"M18.56 5.44l.94 2.06.94-2.06 2.06-.94-2.06-.94-.94-2.06-.94 2.06-2.06.94zm-11 1L8.5 8.5l.94-2.06 2.06-.94-2.06-.94L8.5 2.5l-.94 2.06-2.06.94zm10 10l.94 2.06.94-2.06 2.06-.94-2.06-.94-.94-2.06-.94 2.06-2.06.94z\"/><path d=\"M17.41 7.96l-1.37-1.37c-.4-.4-.92-.59-1.43-.59-.52 0-1.04.2-1.43.59L10.3 9.45l-7.72 7.72c-.78.78-.78 2.05 0 2.83L4 21.41c.39.39.9.59 1.41.59.51 0 1.02-.2 1.41-.59l7.78-7.78 2.81-2.81c.8-.78.8-2.07 0-2.86zM5.41 20L4 18.59l7.72-7.72 1.47 1.35L5.41 20z\"/>\n",
              "  </svg>\n",
              "      </button>\n",
              "      \n",
              "  <style>\n",
              "    .colab-df-container {\n",
              "      display:flex;\n",
              "      flex-wrap:wrap;\n",
              "      gap: 12px;\n",
              "    }\n",
              "\n",
              "    .colab-df-convert {\n",
              "      background-color: #E8F0FE;\n",
              "      border: none;\n",
              "      border-radius: 50%;\n",
              "      cursor: pointer;\n",
              "      display: none;\n",
              "      fill: #1967D2;\n",
              "      height: 32px;\n",
              "      padding: 0 0 0 0;\n",
              "      width: 32px;\n",
              "    }\n",
              "\n",
              "    .colab-df-convert:hover {\n",
              "      background-color: #E2EBFA;\n",
              "      box-shadow: 0px 1px 2px rgba(60, 64, 67, 0.3), 0px 1px 3px 1px rgba(60, 64, 67, 0.15);\n",
              "      fill: #174EA6;\n",
              "    }\n",
              "\n",
              "    [theme=dark] .colab-df-convert {\n",
              "      background-color: #3B4455;\n",
              "      fill: #D2E3FC;\n",
              "    }\n",
              "\n",
              "    [theme=dark] .colab-df-convert:hover {\n",
              "      background-color: #434B5C;\n",
              "      box-shadow: 0px 1px 3px 1px rgba(0, 0, 0, 0.15);\n",
              "      filter: drop-shadow(0px 1px 2px rgba(0, 0, 0, 0.3));\n",
              "      fill: #FFFFFF;\n",
              "    }\n",
              "  </style>\n",
              "\n",
              "      <script>\n",
              "        const buttonEl =\n",
              "          document.querySelector('#df-4b94ce44-fea8-479d-b2bd-ed4f81d67201 button.colab-df-convert');\n",
              "        buttonEl.style.display =\n",
              "          google.colab.kernel.accessAllowed ? 'block' : 'none';\n",
              "\n",
              "        async function convertToInteractive(key) {\n",
              "          const element = document.querySelector('#df-4b94ce44-fea8-479d-b2bd-ed4f81d67201');\n",
              "          const dataTable =\n",
              "            await google.colab.kernel.invokeFunction('convertToInteractive',\n",
              "                                                     [key], {});\n",
              "          if (!dataTable) return;\n",
              "\n",
              "          const docLinkHtml = 'Like what you see? Visit the ' +\n",
              "            '<a target=\"_blank\" href=https://colab.research.google.com/notebooks/data_table.ipynb>data table notebook</a>'\n",
              "            + ' to learn more about interactive tables.';\n",
              "          element.innerHTML = '';\n",
              "          dataTable['output_type'] = 'display_data';\n",
              "          await google.colab.output.renderOutput(dataTable, element);\n",
              "          const docLink = document.createElement('div');\n",
              "          docLink.innerHTML = docLinkHtml;\n",
              "          element.appendChild(docLink);\n",
              "        }\n",
              "      </script>\n",
              "    </div>\n",
              "  </div>\n",
              "  "
            ]
          },
          "metadata": {},
          "execution_count": 2
        }
      ],
      "source": [
        "data = pd.read_csv(\"https://raw.githubusercontent.com/supasonicx/ATA-praktikum-01/main/concrete.csv\")\n",
        "data.head(10)"
      ]
    },
    {
      "cell_type": "markdown",
      "metadata": {
        "id": "odW46Wor5IMb"
      },
      "source": [
        "# 2. EDA"
      ]
    },
    {
      "cell_type": "markdown",
      "metadata": {
        "id": "A9Jt190h5IMc"
      },
      "source": [
        "## 2.1.Univariate analysis\n",
        "<a id=\"2\"></a>"
      ]
    },
    {
      "cell_type": "markdown",
      "metadata": {
        "id": "8_lkplzV5IMc"
      },
      "source": [
        "## 2.1.1 [Cement]"
      ]
    },
    {
      "cell_type": "markdown",
      "metadata": {
        "id": "1UIAOhJO5IMc"
      },
      "source": [
        "### **i.\tDistribusi**"
      ]
    },
    {
      "cell_type": "code",
      "execution_count": null,
      "metadata": {
        "scrolled": false,
        "colab": {
          "base_uri": "https://localhost:8080/",
          "height": 483
        },
        "id": "lGtptVLJ5IMd",
        "outputId": "589b3c89-06be-4d0f-d44d-c9bc29b8c55c"
      },
      "outputs": [
        {
          "output_type": "display_data",
          "data": {
            "text/plain": [
              "<Figure size 576x576 with 1 Axes>"
            ],
            "image/png": "[encoded data removed]"
          },
          "metadata": {
            "needs_background": "light"
          }
        }
      ],
      "source": [
        "# Buat diagram di sini\n",
        "data['cement'].hist(figsize=(8,8))\n",
        "plt.show()"
      ]
    },
    {
      "cell_type": "code",
      "source": [
        "data[data[\"cement\"]>300].shape"
      ],
      "metadata": {
        "colab": {
          "base_uri": "https://localhost:8080/"
        },
        "id": "nnTmFzpqkO9E",
        "outputId": "a9313163-f30a-404e-ee75-d0b9afd1616b"
      },
      "execution_count": null,
      "outputs": [
        {
          "output_type": "execute_result",
          "data": {
            "text/plain": [
              "(413, 9)"
            ]
          },
          "metadata": {},
          "execution_count": 7
        }
      ]
    },
    {
      "cell_type": "code",
      "source": [
        "data['cement'].describe()"
      ],
      "metadata": {
        "colab": {
          "base_uri": "https://localhost:8080/"
        },
        "id": "qeAUwsqVPmSJ",
        "outputId": "d9897b92-a1a2-47c1-b4ef-ad5b045a017d"
      },
      "execution_count": null,
      "outputs": [
        {
          "output_type": "execute_result",
          "data": {
            "text/plain": [
              "count    1030.000000\n",
              "mean      281.167864\n",
              "std       104.506364\n",
              "min       102.000000\n",
              "25%       192.375000\n",
              "50%       272.900000\n",
              "75%       350.000000\n",
              "max       540.000000\n",
              "Name: cement, dtype: float64"
            ]
          },
          "metadata": {},
          "execution_count": 4
        }
      ]
    },
    {
      "cell_type": "code",
      "source": [
        "# Buat diagram di sini\n",
        "data['age'].hist(figsize=(8,8))\n",
        "plt.show()"
      ],
      "metadata": {
        "colab": {
          "base_uri": "https://localhost:8080/",
          "height": 483
        },
        "id": "gaxzeLU1MpXX",
        "outputId": "d13c0479-c191-41f0-ac1b-37b7763bed38"
      },
      "execution_count": null,
      "outputs": [
        {
          "output_type": "display_data",
          "data": {
            "text/plain": [
              "<Figure size 576x576 with 1 Axes>"
            ],
            "image/png": "[encoded data removed]"
          },
          "metadata": {
            "needs_background": "light"
          }
        }
      ]
    },
    {
      "cell_type": "code",
      "source": [
        "data['age'].describe()"
      ],
      "metadata": {
        "colab": {
          "base_uri": "https://localhost:8080/"
        },
        "id": "h5ip8g7PMmGG",
        "outputId": "9cfece71-85ab-419a-8a7f-b1d239e744e4"
      },
      "execution_count": null,
      "outputs": [
        {
          "output_type": "execute_result",
          "data": {
            "text/plain": [
              "count    1030.000000\n",
              "mean       45.662136\n",
              "std        63.169912\n",
              "min         1.000000\n",
              "25%         7.000000\n",
              "50%        28.000000\n",
              "75%        56.000000\n",
              "max       365.000000\n",
              "Name: age, dtype: float64"
            ]
          },
          "metadata": {},
          "execution_count": 3
        }
      ]
    },
    {
      "cell_type": "markdown",
      "source": [
        "### **ii. Deskripsi**"
      ],
      "metadata": {
        "id": "dHoxvDmwcOMk"
      }
    },
    {
      "cell_type": "markdown",
      "source": [
        "Histogram di atas menjelaskan:\n",
        "\n",
        "\n",
        "\n",
        "*   Atribut cement tidak simetris karena dari bagian kiri ke bagian kanan bentuknya tidak saling mencerminkan satu sama lain.\n",
        "*   Persebaran jumlah cement tidak stabil karena jumlah cement terbanyak berada pada rata-rata 281 kg.\n",
        "*  Cement memiliki data minimum sebesar 102 kg dan data maksimum sebesar 540 kg.\n",
        "*   Dataset ini memiliki jumlah penurunan yang cukup banyak dalam penggunaan cement di atas 413 kg, yaitu terdapat 9 cement.\n",
        "\n",
        "\n",
        "\n",
        "\n",
        "\n"
      ],
      "metadata": {
        "id": "sQrR2aKAxJ25"
      }
    },
    {
      "cell_type": "markdown",
      "metadata": {
        "id": "7uk_WSiXnwG0"
      },
      "source": [
        "## 2.1.2 [Age]"
      ]
    },
    {
      "cell_type": "markdown",
      "metadata": {
        "id": "UZjlO5GFn4Gz"
      },
      "source": [
        "### **i.\tDistribusi**"
      ]
    },
    {
      "cell_type": "code",
      "source": [
        "data['agegroup'] = np.where(data['age'] > 35, '>35', '<=35')\n",
        "plt.figure(figsize=(7,7))\n",
        "total = float(len(data) )\n",
        "\n",
        "ax = sns.countplot(x=\"agegroup\", data=data)\n",
        "for p in ax.patches:\n",
        "    height = p.get_height()\n",
        "    ax.text(p.get_x()+p.get_width()/2.,\n",
        "            height + 3,\n",
        "            '{:1.2f}'.format((height/total)*100),\n",
        "            ha=\"center\") \n",
        "plt.show()"
      ],
      "metadata": {
        "colab": {
          "base_uri": "https://localhost:8080/",
          "height": 442
        },
        "id": "yLIugfDpn6oN",
        "outputId": "086966b5-68a0-44fe-9fc5-71de989140f2"
      },
      "execution_count": null,
      "outputs": [
        {
          "output_type": "display_data",
          "data": {
            "text/plain": [
              "<Figure size 504x504 with 1 Axes>"
            ],
            "image/png": "[encoded data removed]"
          },
          "metadata": {
            "needs_background": "light"
          }
        }
      ]
    },
    {
      "cell_type": "markdown",
      "metadata": {
        "id": "RApYmkyM5IMd"
      },
      "source": [
        "### **ii.\tDeskripsi**"
      ]
    },
    {
      "cell_type": "markdown",
      "metadata": {
        "id": "wUq4J7FG5IMd"
      },
      "source": [
        "Distribusi di atas menjelaskan bahwa :\n",
        "\n",
        "Dataset ini tidak seimbang, yaitu 72.72% di antaranya termasuk dalam kelompok 1 (usia beton <=35) dan 27.28% termasuk dalam kelompok 2 (usia beton >35)."
      ]
    },
    {
      "cell_type": "markdown",
      "metadata": {
        "id": "jU40bTDt5IMd"
      },
      "source": [
        "<a id=\"3\"></a>\n",
        "# 2.2.Bivariate analysis"
      ]
    },
    {
      "cell_type": "markdown",
      "metadata": {
        "id": "sYr-hrgJ5IMe"
      },
      "source": [
        "## 2.2.1 [cement-age] (hubungan)"
      ]
    },
    {
      "cell_type": "markdown",
      "metadata": {
        "id": "YKZIjt0Z5IMe"
      },
      "source": [
        "### i. **Boxplot**"
      ]
    },
    {
      "cell_type": "code",
      "execution_count": null,
      "metadata": {
        "colab": {
          "base_uri": "https://localhost:8080/",
          "height": 606
        },
        "id": "UcCsLO4W5IMe",
        "outputId": "7e5cd08e-5b63-462d-ec01-42e12c4bcf00"
      },
      "outputs": [
        {
          "output_type": "display_data",
          "data": {
            "text/plain": [
              "<Figure size 720x720 with 1 Axes>"
            ],
            "image/png": "[encoded data removed]"
          },
          "metadata": {
            "needs_background": "light"
          }
        }
      ],
      "source": [
        "# Buat diagram di sini\n",
        "fig = plt.figure(figsize=(10,10)) \n",
        "sns.boxplot(x=\"agegroup\", y=\"cement\", data=data)\n",
        "plt.show()"
      ]
    },
    {
      "cell_type": "markdown",
      "source": [
        "Mean"
      ],
      "metadata": {
        "id": "mLIIVh8xewRK"
      }
    },
    {
      "cell_type": "code",
      "source": [
        "data[['agegroup', 'cement']].groupby(['agegroup'], as_index=False).mean().sort_values(by='cement', ascending=False)"
      ],
      "metadata": {
        "colab": {
          "base_uri": "https://localhost:8080/",
          "height": 112
        },
        "id": "nDn8xuaMeuD8",
        "outputId": "7da9706f-2651-4067-b163-174de17f7a19"
      },
      "execution_count": null,
      "outputs": [
        {
          "output_type": "execute_result",
          "data": {
            "text/plain": [
              "  agegroup      cement\n",
              "1      >35  294.698932\n",
              "0     <=35  276.091455"
            ],
            "text/html": [
              "\n",
              "  <div id=\"df-3ba4b82e-c287-4da2-8853-0f54dab08e57\">\n",
              "    <div class=\"colab-df-container\">\n",
              "      <div>\n",
              "<style scoped>\n",
              "    .dataframe tbody tr th:only-of-type {\n",
              "        vertical-align: middle;\n",
              "    }\n",
              "\n",
              "    .dataframe tbody tr th {\n",
              "        vertical-align: top;\n",
              "    }\n",
              "\n",
              "    .dataframe thead th {\n",
              "        text-align: right;\n",
              "    }\n",
              "</style>\n",
              "<table border=\"1\" class=\"dataframe\">\n",
              "  <thead>\n",
              "    <tr style=\"text-align: right;\">\n",
              "      <th></th>\n",
              "      <th>agegroup</th>\n",
              "      <th>cement</th>\n",
              "    </tr>\n",
              "  </thead>\n",
              "  <tbody>\n",
              "    <tr>\n",
              "      <th>1</th>\n",
              "      <td>&gt;35</td>\n",
              "      <td>294.698932</td>\n",
              "    </tr>\n",
              "    <tr>\n",
              "      <th>0</th>\n",
              "      <td>&lt;=35</td>\n",
              "      <td>276.091455</td>\n",
              "    </tr>\n",
              "  </tbody>\n",
              "</table>\n",
              "</div>\n",
              "      <button class=\"colab-df-convert\" onclick=\"convertToInteractive('df-3ba4b82e-c287-4da2-8853-0f54dab08e57')\"\n",
              "              title=\"Convert this dataframe to an interactive table.\"\n",
              "              style=\"display:none;\">\n",
              "        \n",
              "  <svg xmlns=\"http://www.w3.org/2000/svg\" height=\"24px\"viewBox=\"0 0 24 24\"\n",
              "       width=\"24px\">\n",
              "    <path d=\"M0 0h24v24H0V0z\" fill=\"none\"/>\n",
              "    <path d=\"M18.56 5.44l.94 2.06.94-2.06 2.06-.94-2.06-.94-.94-2.06-.94 2.06-2.06.94zm-11 1L8.5 8.5l.94-2.06 2.06-.94-2.06-.94L8.5 2.5l-.94 2.06-2.06.94zm10 10l.94 2.06.94-2.06 2.06-.94-2.06-.94-.94-2.06-.94 2.06-2.06.94z\"/><path d=\"M17.41 7.96l-1.37-1.37c-.4-.4-.92-.59-1.43-.59-.52 0-1.04.2-1.43.59L10.3 9.45l-7.72 7.72c-.78.78-.78 2.05 0 2.83L4 21.41c.39.39.9.59 1.41.59.51 0 1.02-.2 1.41-.59l7.78-7.78 2.81-2.81c.8-.78.8-2.07 0-2.86zM5.41 20L4 18.59l7.72-7.72 1.47 1.35L5.41 20z\"/>\n",
              "  </svg>\n",
              "      </button>\n",
              "      \n",
              "  <style>\n",
              "    .colab-df-container {\n",
              "      display:flex;\n",
              "      flex-wrap:wrap;\n",
              "      gap: 12px;\n",
              "    }\n",
              "\n",
              "    .colab-df-convert {\n",
              "      background-color: #E8F0FE;\n",
              "      border: none;\n",
              "      border-radius: 50%;\n",
              "      cursor: pointer;\n",
              "      display: none;\n",
              "      fill: #1967D2;\n",
              "      height: 32px;\n",
              "      padding: 0 0 0 0;\n",
              "      width: 32px;\n",
              "    }\n",
              "\n",
              "    .colab-df-convert:hover {\n",
              "      background-color: #E2EBFA;\n",
              "      box-shadow: 0px 1px 2px rgba(60, 64, 67, 0.3), 0px 1px 3px 1px rgba(60, 64, 67, 0.15);\n",
              "      fill: #174EA6;\n",
              "    }\n",
              "\n",
              "    [theme=dark] .colab-df-convert {\n",
              "      background-color: #3B4455;\n",
              "      fill: #D2E3FC;\n",
              "    }\n",
              "\n",
              "    [theme=dark] .colab-df-convert:hover {\n",
              "      background-color: #434B5C;\n",
              "      box-shadow: 0px 1px 3px 1px rgba(0, 0, 0, 0.15);\n",
              "      filter: drop-shadow(0px 1px 2px rgba(0, 0, 0, 0.3));\n",
              "      fill: #FFFFFF;\n",
              "    }\n",
              "  </style>\n",
              "\n",
              "      <script>\n",
              "        const buttonEl =\n",
              "          document.querySelector('#df-3ba4b82e-c287-4da2-8853-0f54dab08e57 button.colab-df-convert');\n",
              "        buttonEl.style.display =\n",
              "          google.colab.kernel.accessAllowed ? 'block' : 'none';\n",
              "\n",
              "        async function convertToInteractive(key) {\n",
              "          const element = document.querySelector('#df-3ba4b82e-c287-4da2-8853-0f54dab08e57');\n",
              "          const dataTable =\n",
              "            await google.colab.kernel.invokeFunction('convertToInteractive',\n",
              "                                                     [key], {});\n",
              "          if (!dataTable) return;\n",
              "\n",
              "          const docLinkHtml = 'Like what you see? Visit the ' +\n",
              "            '<a target=\"_blank\" href=https://colab.research.google.com/notebooks/data_table.ipynb>data table notebook</a>'\n",
              "            + ' to learn more about interactive tables.';\n",
              "          element.innerHTML = '';\n",
              "          dataTable['output_type'] = 'display_data';\n",
              "          await google.colab.output.renderOutput(dataTable, element);\n",
              "          const docLink = document.createElement('div');\n",
              "          docLink.innerHTML = docLinkHtml;\n",
              "          element.appendChild(docLink);\n",
              "        }\n",
              "      </script>\n",
              "    </div>\n",
              "  </div>\n",
              "  "
            ]
          },
          "metadata": {},
          "execution_count": 12
        }
      ]
    },
    {
      "cell_type": "markdown",
      "source": [
        "Median"
      ],
      "metadata": {
        "id": "6Xm9End-eyMQ"
      }
    },
    {
      "cell_type": "code",
      "source": [
        "data[['agegroup', 'cement']].groupby(['agegroup'], as_index=False).median().sort_values(by='cement', ascending=False)"
      ],
      "metadata": {
        "colab": {
          "base_uri": "https://localhost:8080/",
          "height": 112
        },
        "id": "HbnQOAngezmG",
        "outputId": "e703960c-89c8-4f6b-a2e2-958e05663997"
      },
      "execution_count": null,
      "outputs": [
        {
          "output_type": "execute_result",
          "data": {
            "text/plain": [
              "  agegroup  cement\n",
              "1      >35   277.2\n",
              "0     <=35   265.0"
            ],
            "text/html": [
              "\n",
              "  <div id=\"df-75b6c605-d332-41d6-b075-905108fffb21\">\n",
              "    <div class=\"colab-df-container\">\n",
              "      <div>\n",
              "<style scoped>\n",
              "    .dataframe tbody tr th:only-of-type {\n",
              "        vertical-align: middle;\n",
              "    }\n",
              "\n",
              "    .dataframe tbody tr th {\n",
              "        vertical-align: top;\n",
              "    }\n",
              "\n",
              "    .dataframe thead th {\n",
              "        text-align: right;\n",
              "    }\n",
              "</style>\n",
              "<table border=\"1\" class=\"dataframe\">\n",
              "  <thead>\n",
              "    <tr style=\"text-align: right;\">\n",
              "      <th></th>\n",
              "      <th>agegroup</th>\n",
              "      <th>cement</th>\n",
              "    </tr>\n",
              "  </thead>\n",
              "  <tbody>\n",
              "    <tr>\n",
              "      <th>1</th>\n",
              "      <td>&gt;35</td>\n",
              "      <td>277.2</td>\n",
              "    </tr>\n",
              "    <tr>\n",
              "      <th>0</th>\n",
              "      <td>&lt;=35</td>\n",
              "      <td>265.0</td>\n",
              "    </tr>\n",
              "  </tbody>\n",
              "</table>\n",
              "</div>\n",
              "      <button class=\"colab-df-convert\" onclick=\"convertToInteractive('df-75b6c605-d332-41d6-b075-905108fffb21')\"\n",
              "              title=\"Convert this dataframe to an interactive table.\"\n",
              "              style=\"display:none;\">\n",
              "        \n",
              "  <svg xmlns=\"http://www.w3.org/2000/svg\" height=\"24px\"viewBox=\"0 0 24 24\"\n",
              "       width=\"24px\">\n",
              "    <path d=\"M0 0h24v24H0V0z\" fill=\"none\"/>\n",
              "    <path d=\"M18.56 5.44l.94 2.06.94-2.06 2.06-.94-2.06-.94-.94-2.06-.94 2.06-2.06.94zm-11 1L8.5 8.5l.94-2.06 2.06-.94-2.06-.94L8.5 2.5l-.94 2.06-2.06.94zm10 10l.94 2.06.94-2.06 2.06-.94-2.06-.94-.94-2.06-.94 2.06-2.06.94z\"/><path d=\"M17.41 7.96l-1.37-1.37c-.4-.4-.92-.59-1.43-.59-.52 0-1.04.2-1.43.59L10.3 9.45l-7.72 7.72c-.78.78-.78 2.05 0 2.83L4 21.41c.39.39.9.59 1.41.59.51 0 1.02-.2 1.41-.59l7.78-7.78 2.81-2.81c.8-.78.8-2.07 0-2.86zM5.41 20L4 18.59l7.72-7.72 1.47 1.35L5.41 20z\"/>\n",
              "  </svg>\n",
              "      </button>\n",
              "      \n",
              "  <style>\n",
              "    .colab-df-container {\n",
              "      display:flex;\n",
              "      flex-wrap:wrap;\n",
              "      gap: 12px;\n",
              "    }\n",
              "\n",
              "    .colab-df-convert {\n",
              "      background-color: #E8F0FE;\n",
              "      border: none;\n",
              "      border-radius: 50%;\n",
              "      cursor: pointer;\n",
              "      display: none;\n",
              "      fill: #1967D2;\n",
              "      height: 32px;\n",
              "      padding: 0 0 0 0;\n",
              "      width: 32px;\n",
              "    }\n",
              "\n",
              "    .colab-df-convert:hover {\n",
              "      background-color: #E2EBFA;\n",
              "      box-shadow: 0px 1px 2px rgba(60, 64, 67, 0.3), 0px 1px 3px 1px rgba(60, 64, 67, 0.15);\n",
              "      fill: #174EA6;\n",
              "    }\n",
              "\n",
              "    [theme=dark] .colab-df-convert {\n",
              "      background-color: #3B4455;\n",
              "      fill: #D2E3FC;\n",
              "    }\n",
              "\n",
              "    [theme=dark] .colab-df-convert:hover {\n",
              "      background-color: #434B5C;\n",
              "      box-shadow: 0px 1px 3px 1px rgba(0, 0, 0, 0.15);\n",
              "      filter: drop-shadow(0px 1px 2px rgba(0, 0, 0, 0.3));\n",
              "      fill: #FFFFFF;\n",
              "    }\n",
              "  </style>\n",
              "\n",
              "      <script>\n",
              "        const buttonEl =\n",
              "          document.querySelector('#df-75b6c605-d332-41d6-b075-905108fffb21 button.colab-df-convert');\n",
              "        buttonEl.style.display =\n",
              "          google.colab.kernel.accessAllowed ? 'block' : 'none';\n",
              "\n",
              "        async function convertToInteractive(key) {\n",
              "          const element = document.querySelector('#df-75b6c605-d332-41d6-b075-905108fffb21');\n",
              "          const dataTable =\n",
              "            await google.colab.kernel.invokeFunction('convertToInteractive',\n",
              "                                                     [key], {});\n",
              "          if (!dataTable) return;\n",
              "\n",
              "          const docLinkHtml = 'Like what you see? Visit the ' +\n",
              "            '<a target=\"_blank\" href=https://colab.research.google.com/notebooks/data_table.ipynb>data table notebook</a>'\n",
              "            + ' to learn more about interactive tables.';\n",
              "          element.innerHTML = '';\n",
              "          dataTable['output_type'] = 'display_data';\n",
              "          await google.colab.output.renderOutput(dataTable, element);\n",
              "          const docLink = document.createElement('div');\n",
              "          docLink.innerHTML = docLinkHtml;\n",
              "          element.appendChild(docLink);\n",
              "        }\n",
              "      </script>\n",
              "    </div>\n",
              "  </div>\n",
              "  "
            ]
          },
          "metadata": {},
          "execution_count": 13
        }
      ]
    },
    {
      "cell_type": "markdown",
      "metadata": {
        "id": "-jBA-LAl5IMe"
      },
      "source": [
        "### ii. Deskripsi"
      ]
    },
    {
      "cell_type": "markdown",
      "metadata": {
        "id": "UAm-1OJr5IMf"
      },
      "source": [
        "Bivariate boxplot di atas menjelaskan bahwa :\n",
        "*   Rata-rata \"usia\" beton dari cement untuk kelompok 1 (<=35) adalah 276.091455, sedangkan untuk kelompok 2 (>35) adalah 294.698932\n",
        "*   Median dari \"usia\" beton dari cement untuk kelompok 1 (<=35) adalah 277.2, sedangkan kelompok 2 (>50k) memiliki median sebesar 265."
      ]
    },
    {
      "cell_type": "markdown",
      "metadata": {
        "id": "89EX1iN25IMf"
      },
      "source": [
        "### iii. Uji Hipotesis\n",
        "**Two sampled T-test** :-Uji Independent Samples t Test atau 2-sample t-test membandingkan rata-rata dua kelompok independen untuk menentukan apakah ada bukti statistik bahwa rata-rata populasi terkait berbeda secara signifikan.\n"
      ]
    },
    {
      "cell_type": "markdown",
      "metadata": {
        "id": "3Mm1GMq95IMf"
      },
      "source": [
        "Tentukan null dan alternate hypothesis.\n",
        "\n",
        "    Secara umum, null hypothesis akan menyatakan bahwa kedua populasi yang diuji tidak memiliki perbedaan yang signifikan secara statistik.\n",
        "    alternate hypothesis akan menyatakan bahwa ada perbedaan."
      ]
    },
    {
      "cell_type": "markdown",
      "metadata": {
        "id": "8yyiGFqQ5IMf"
      },
      "source": [
        "Dalam contoh ini kita dapat mengatakan bahwa:\n",
        "*  Null Hypothesis :- tidak ada perbedaan Rerata usia kelompok pendapatan >50k dan kelompok pendapatan <=50k.\n",
        "*  Alternate Hypothesis :- ada perbedaan Rerata usia kelompok pendapatan >50k dan kelompok pendapatan <=50k."
      ]
    },
    {
      "cell_type": "code",
      "execution_count": null,
      "metadata": {
        "id": "RCTMmtpz5IMg"
      },
      "outputs": [],
      "source": [
        "# Buat uji hipotesis untuk menentukan null atau alternate hypothesis\n",
        "import random\n",
        "\n",
        "data = data[(np.abs(stats.zscore(data[\"cement\"])) < 3)] \n",
        "\n",
        "age_1 = data[data['age group']=='<=35']['cement']\n",
        "age_0 = data[data['age group']=='>35']['cement']\n",
        "\n",
        "age_0 = age_0.values.tolist()\n",
        "age_0 = random.sample(age_0, 100)\n",
        "age_1 = age_1.values.tolist()\n",
        "age_1 = random.sample(age_1, 100)"
      ]
    },
    {
      "cell_type": "code",
      "source": [
        "from scipy.stats import ttest_ind\n",
        "ttest,pval = ttest_ind(age_1,age_0,equal_var = False)\n",
        "print(\"ttest\",ttest)\n",
        "print('p value',pval)\n",
        "\n",
        "\n",
        "if pval <0.05:\n",
        "    print(\"null hypothesis ditolak\")\n",
        "else:\n",
        "    print(\"null hypothesis diterima\")"
      ],
      "metadata": {
        "colab": {
          "base_uri": "https://localhost:8080/"
        },
        "id": "FpWgfJGzO_Bs",
        "outputId": "4869b687-46dc-43c4-df9b-a488551ada34"
      },
      "execution_count": null,
      "outputs": [
        {
          "output_type": "stream",
          "name": "stdout",
          "text": [
            "ttest -1.9440914836962615\n",
            "p value 0.05330916512171199\n",
            "null hypothesis diterima\n"
          ]
        }
      ]
    },
    {
      "cell_type": "markdown",
      "metadata": {
        "id": "8ry2PvJP5IMg"
      },
      "source": [
        "### iv. Kesimpulan akhir"
      ]
    },
    {
      "cell_type": "markdown",
      "metadata": {
        "id": "Ysuu0Qxp5IMg"
      },
      "source": [
        "Dapat disimpulkan bahwa tidak ada perbedaan rerata pada \"agegroup\" antara kelompok usia beton >35 dan kelompok usia beton <=35.\n",
        "\n",
        "Berarti, dapat dibuktikan bahwa \"cement\" tidak memiliki peranan dalam membedakan kelompok usia beton tersebut."
      ]
    }
  ],
  "metadata": {
    "kernelspec": {
      "display_name": "Python 3",
      "language": "python",
      "name": "python3"
    },
    "language_info": {
      "codemirror_mode": {
        "name": "ipython",
        "version": 3
      },
      "file_extension": ".py",
      "mimetype": "text/x-python",
      "name": "python",
      "nbconvert_exporter": "python",
      "pygments_lexer": "ipython3",
      "version": "3.6.9"
    },
    "colab": {
      "name": "M4-Notebook.ipynb",
      "provenance": [],
      "collapsed_sections": []
    }
  },
  "nbformat": 4,
  "nbformat_minor": 0
}