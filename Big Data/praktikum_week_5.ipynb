{
  "cells": [
    {
      "cell_type": "markdown",
      "metadata": {
        "id": "pt7g6Lx4rLzc"
      },
      "source": [
        "# Praktikum V\n",
        "\n",
        "Selamat datang pada praktikum unggulan minggu ke - 5. \n",
        "\n",
        "\n",
        "![1_L0464qoX7pSkIQMBcF73Tg.png](attachment:1_L0464qoX7pSkIQMBcF73Tg.png)\n",
        "\n",
        "Gambar diatas menunjukkan tahapan yang Anda perlu lakukan ketika ingin membangun sebuah model artificial intelligence. \n",
        "Pada minggu ini Anda akan melakukan fase data cleansing atau pembersihan data. Tahapan ini biasanya dilakuakan sebelum anda melakukan tahapan EDA yang telah Anda pelajari sebelumnya. Tahapan ini perlu dilakukan jika data yang Anda miliki tidak 'bersih', sehingga perlu dilakukan pemrosesan terlebih dahulu (tahapan pre-processing) sebelum data tersebut masuk kedalam algoritma pembangunan model. \n",
        "\n",
        "Materi praktikum ini dibagi menjadi 2 bagian dengan menggunakan dua dataset yang berbeda. Adapun operasi akan Anda lakukan antara lain \n",
        "* Melihat bentuk data (shape) dari data train dan test set\n",
        "* Cek data NaN, bila ada maka hapus/drop data NaN tsb\n",
        "* Cek outliers, bila ada maka hapus/drop outliers tsb\n",
        "* Melakukan konversi jenis kolom yang relevan.\n",
        "* Melakukan transformasi terhadap data yang bersifat kategori \n",
        "\n",
        "Operasi yang Anda lakukan pada tahapan pembersihan data sangat bergantung pada karakteristik permasalahan, karakter data, serta jenis data yang terdapat dalam dataset Anda. Sebagai referensi, berikut bagan dari berbagai macam tipe data yang mungkin Anda temui dalam sebuah dataset. \n",
        "\n"
      ]
    },
    {
      "cell_type": "markdown",
      "metadata": {
        "id": "USeNS8nBrLzk"
      },
      "source": [
        "\n",
        "![8UUywzzaMhY2ZGHrWE7VkA_b.png](attachment:8UUywzzaMhY2ZGHrWE7VkA_b.png)"
      ]
    },
    {
      "cell_type": "code",
      "execution_count": 1,
      "metadata": {
        "_cell_guid": "b1076dfc-b9ad-4769-8c92-a6c4dae69d19",
        "_uuid": "8f2839f25d086af736a60e9eeb907d3b93b6e0e5",
        "execution": {
          "iopub.execute_input": "2021-10-20T09:14:12.864929Z",
          "iopub.status.busy": "2021-10-20T09:14:12.864431Z",
          "iopub.status.idle": "2021-10-20T09:14:13.631899Z",
          "shell.execute_reply": "2021-10-20T09:14:13.631124Z",
          "shell.execute_reply.started": "2021-10-20T09:14:12.864675Z"
        },
        "id": "Bunzx0_wrLzm"
      },
      "outputs": [],
      "source": [
        "import numpy as np \n",
        "import pandas as pd \n",
        "import sklearn\n",
        "import seaborn as sns\n",
        "import matplotlib.pyplot as plt"
      ]
    },
    {
      "cell_type": "markdown",
      "metadata": {
        "id": "skgm-k0srLzp"
      },
      "source": [
        "### Dataset 1\n",
        "\n",
        "Dataset yang akan Anda gunakan pada praktikum kali ini adalah dataset transaksi taksi di kota New York. Dataset ini memiliki jumlah sebanyak 200.000 data dengan 8 fitur. "
      ]
    },
    {
      "cell_type": "code",
      "execution_count": null,
      "metadata": {
        "_cell_guid": "79c7e3d0-c299-4dcb-8224-4455121ee9b0",
        "_uuid": "d629ff2d2480ee46fbb7e2d37f6b5fab8052498a",
        "execution": {
          "iopub.execute_input": "2021-10-20T09:14:29.422831Z",
          "iopub.status.busy": "2021-10-20T09:14:29.422496Z",
          "iopub.status.idle": "2021-10-20T09:14:33.005905Z",
          "shell.execute_reply": "2021-10-20T09:14:33.005050Z",
          "shell.execute_reply.started": "2021-10-20T09:14:29.422762Z"
        },
        "id": "QT4QXTrYrLzq"
      },
      "outputs": [],
      "source": [
        "# Load data train dan test ke dalam pandas dataframe\n",
        "# train = pd.read_csv(\"../input/train.csv\", nrows = 1000000) # kita hanya gunakan 1 juta baris data\n",
        "train = pd.read_csv(\"https://raw.githubusercontent.com/supasonicx/ATA-praktikum-01/main/Split-200000.csv\")"
      ]
    },
    {
      "cell_type": "markdown",
      "metadata": {
        "_uuid": "b1eeb9d0345aa40e7f56abecf9d31160c5d54e6c",
        "id": "Uj2xFTprrLzr"
      },
      "source": [
        "## BAGIAN 1 : DATA CLEANSING PENGHILANGAN MISSING VALUE DAN DATA ANOMALI**\n",
        "\n",
        "Pada bagian ini, Anda akan mempraktikan cara untuk :\n",
        "* Melihat bentuk data (shape) dari data train dan test set\n",
        "* Cek data NaN, bila ada maka hapus/drop data NaN tsb\n",
        "* Cek outliers, bila ada maka hapus/drop outliers tsb\n",
        "* Melakukan konversi jenis kolom yang relevan.\n",
        "\n"
      ]
    },
    {
      "cell_type": "code",
      "execution_count": null,
      "metadata": {
        "_uuid": "148ecc97189af46a200b00cc52fa0a91e21bd044",
        "execution": {
          "iopub.execute_input": "2021-10-20T09:14:37.904096Z",
          "iopub.status.busy": "2021-10-20T09:14:37.903774Z",
          "iopub.status.idle": "2021-10-20T09:14:37.911259Z",
          "shell.execute_reply": "2021-10-20T09:14:37.910391Z",
          "shell.execute_reply.started": "2021-10-20T09:14:37.904034Z"
        },
        "id": "IhigfMqdrLzs",
        "colab": {
          "base_uri": "https://localhost:8080/"
        },
        "outputId": "1cc03afd-d928-49f8-fd5d-96be924638bb"
      },
      "outputs": [
        {
          "output_type": "execute_result",
          "data": {
            "text/plain": [
              "(200000, 8)"
            ]
          },
          "metadata": {},
          "execution_count": 3
        }
      ],
      "source": [
        "# menghasilkan jumlah baris dan jumlah kolom (bentuk data) pada data train dengan fungsi .shape\n",
        "train.shape"
      ]
    },
    {
      "cell_type": "code",
      "execution_count": null,
      "metadata": {
        "_kg_hide-output": true,
        "_uuid": "e89ffea1211d7394ec677f5dc46bad3eaf521094",
        "execution": {
          "iopub.execute_input": "2021-10-20T09:15:00.421701Z",
          "iopub.status.busy": "2021-10-20T09:15:00.421352Z",
          "iopub.status.idle": "2021-10-20T09:15:00.449637Z",
          "shell.execute_reply": "2021-10-20T09:15:00.448919Z",
          "shell.execute_reply.started": "2021-10-20T09:15:00.421633Z"
        },
        "id": "ZTwl7HWHrLzu",
        "colab": {
          "base_uri": "https://localhost:8080/",
          "height": 363
        },
        "outputId": "10f198d7-f61c-4b45-a75e-f2fe58e3d5a4"
      },
      "outputs": [
        {
          "output_type": "execute_result",
          "data": {
            "text/plain": [
              "                             key  fare_amount          pickup_datetime  \\\n",
              "0    2009-06-15 17:26:21.0000001          4.5  2009-06-15 17:26:21 UTC   \n",
              "1    2010-01-05 16:52:16.0000002         16.9  2010-01-05 16:52:16 UTC   \n",
              "2   2011-08-18 00:35:00.00000049          5.7  2011-08-18 00:35:00 UTC   \n",
              "3    2012-04-21 04:30:42.0000001          7.7  2012-04-21 04:30:42 UTC   \n",
              "4  2010-03-09 07:51:00.000000135          5.3  2010-03-09 07:51:00 UTC   \n",
              "5    2011-01-06 09:50:45.0000002         12.1  2011-01-06 09:50:45 UTC   \n",
              "6    2012-11-20 20:35:00.0000001          7.5  2012-11-20 20:35:00 UTC   \n",
              "7   2012-01-04 17:22:00.00000081         16.5  2012-01-04 17:22:00 UTC   \n",
              "8  2012-12-03 13:10:00.000000125          9.0  2012-12-03 13:10:00 UTC   \n",
              "9   2009-09-02 01:11:00.00000083          8.9  2009-09-02 01:11:00 UTC   \n",
              "\n",
              "   pickup_longitude  pickup_latitude  dropoff_longitude  dropoff_latitude  \\\n",
              "0        -73.844311        40.721319         -73.841610         40.712278   \n",
              "1        -74.016048        40.711303         -73.979268         40.782004   \n",
              "2        -73.982738        40.761270         -73.991242         40.750562   \n",
              "3        -73.987130        40.733143         -73.991567         40.758092   \n",
              "4        -73.968095        40.768008         -73.956655         40.783762   \n",
              "5        -74.000964        40.731630         -73.972892         40.758233   \n",
              "6        -73.980002        40.751662         -73.973802         40.764842   \n",
              "7        -73.951300        40.774138         -73.990095         40.751048   \n",
              "8        -74.006462        40.726713         -73.993078         40.731628   \n",
              "9        -73.980658        40.733873         -73.991540         40.758138   \n",
              "\n",
              "   passenger_count  \n",
              "0                1  \n",
              "1                1  \n",
              "2                2  \n",
              "3                1  \n",
              "4                1  \n",
              "5                1  \n",
              "6                1  \n",
              "7                1  \n",
              "8                1  \n",
              "9                2  "
            ],
            "text/html": [
              "\n",
              "  <div id=\"df-f92463b8-3e4f-4c6e-b7de-bb93364155b1\">\n",
              "    <div class=\"colab-df-container\">\n",
              "      <div>\n",
              "<style scoped>\n",
              "    .dataframe tbody tr th:only-of-type {\n",
              "        vertical-align: middle;\n",
              "    }\n",
              "\n",
              "    .dataframe tbody tr th {\n",
              "        vertical-align: top;\n",
              "    }\n",
              "\n",
              "    .dataframe thead th {\n",
              "        text-align: right;\n",
              "    }\n",
              "</style>\n",
              "<table border=\"1\" class=\"dataframe\">\n",
              "  <thead>\n",
              "    <tr style=\"text-align: right;\">\n",
              "      <th></th>\n",
              "      <th>key</th>\n",
              "      <th>fare_amount</th>\n",
              "      <th>pickup_datetime</th>\n",
              "      <th>pickup_longitude</th>\n",
              "      <th>pickup_latitude</th>\n",
              "      <th>dropoff_longitude</th>\n",
              "      <th>dropoff_latitude</th>\n",
              "      <th>passenger_count</th>\n",
              "    </tr>\n",
              "  </thead>\n",
              "  <tbody>\n",
              "    <tr>\n",
              "      <th>0</th>\n",
              "      <td>2009-06-15 17:26:21.0000001</td>\n",
              "      <td>4.5</td>\n",
              "      <td>2009-06-15 17:26:21 UTC</td>\n",
              "      <td>-73.844311</td>\n",
              "      <td>40.721319</td>\n",
              "      <td>-73.841610</td>\n",
              "      <td>40.712278</td>\n",
              "      <td>1</td>\n",
              "    </tr>\n",
              "    <tr>\n",
              "      <th>1</th>\n",
              "      <td>2010-01-05 16:52:16.0000002</td>\n",
              "      <td>16.9</td>\n",
              "      <td>2010-01-05 16:52:16 UTC</td>\n",
              "      <td>-74.016048</td>\n",
              "      <td>40.711303</td>\n",
              "      <td>-73.979268</td>\n",
              "      <td>40.782004</td>\n",
              "      <td>1</td>\n",
              "    </tr>\n",
              "    <tr>\n",
              "      <th>2</th>\n",
              "      <td>2011-08-18 00:35:00.00000049</td>\n",
              "      <td>5.7</td>\n",
              "      <td>2011-08-18 00:35:00 UTC</td>\n",
              "      <td>-73.982738</td>\n",
              "      <td>40.761270</td>\n",
              "      <td>-73.991242</td>\n",
              "      <td>40.750562</td>\n",
              "      <td>2</td>\n",
              "    </tr>\n",
              "    <tr>\n",
              "      <th>3</th>\n",
              "      <td>2012-04-21 04:30:42.0000001</td>\n",
              "      <td>7.7</td>\n",
              "      <td>2012-04-21 04:30:42 UTC</td>\n",
              "      <td>-73.987130</td>\n",
              "      <td>40.733143</td>\n",
              "      <td>-73.991567</td>\n",
              "      <td>40.758092</td>\n",
              "      <td>1</td>\n",
              "    </tr>\n",
              "    <tr>\n",
              "      <th>4</th>\n",
              "      <td>2010-03-09 07:51:00.000000135</td>\n",
              "      <td>5.3</td>\n",
              "      <td>2010-03-09 07:51:00 UTC</td>\n",
              "      <td>-73.968095</td>\n",
              "      <td>40.768008</td>\n",
              "      <td>-73.956655</td>\n",
              "      <td>40.783762</td>\n",
              "      <td>1</td>\n",
              "    </tr>\n",
              "    <tr>\n",
              "      <th>5</th>\n",
              "      <td>2011-01-06 09:50:45.0000002</td>\n",
              "      <td>12.1</td>\n",
              "      <td>2011-01-06 09:50:45 UTC</td>\n",
              "      <td>-74.000964</td>\n",
              "      <td>40.731630</td>\n",
              "      <td>-73.972892</td>\n",
              "      <td>40.758233</td>\n",
              "      <td>1</td>\n",
              "    </tr>\n",
              "    <tr>\n",
              "      <th>6</th>\n",
              "      <td>2012-11-20 20:35:00.0000001</td>\n",
              "      <td>7.5</td>\n",
              "      <td>2012-11-20 20:35:00 UTC</td>\n",
              "      <td>-73.980002</td>\n",
              "      <td>40.751662</td>\n",
              "      <td>-73.973802</td>\n",
              "      <td>40.764842</td>\n",
              "      <td>1</td>\n",
              "    </tr>\n",
              "    <tr>\n",
              "      <th>7</th>\n",
              "      <td>2012-01-04 17:22:00.00000081</td>\n",
              "      <td>16.5</td>\n",
              "      <td>2012-01-04 17:22:00 UTC</td>\n",
              "      <td>-73.951300</td>\n",
              "      <td>40.774138</td>\n",
              "      <td>-73.990095</td>\n",
              "      <td>40.751048</td>\n",
              "      <td>1</td>\n",
              "    </tr>\n",
              "    <tr>\n",
              "      <th>8</th>\n",
              "      <td>2012-12-03 13:10:00.000000125</td>\n",
              "      <td>9.0</td>\n",
              "      <td>2012-12-03 13:10:00 UTC</td>\n",
              "      <td>-74.006462</td>\n",
              "      <td>40.726713</td>\n",
              "      <td>-73.993078</td>\n",
              "      <td>40.731628</td>\n",
              "      <td>1</td>\n",
              "    </tr>\n",
              "    <tr>\n",
              "      <th>9</th>\n",
              "      <td>2009-09-02 01:11:00.00000083</td>\n",
              "      <td>8.9</td>\n",
              "      <td>2009-09-02 01:11:00 UTC</td>\n",
              "      <td>-73.980658</td>\n",
              "      <td>40.733873</td>\n",
              "      <td>-73.991540</td>\n",
              "      <td>40.758138</td>\n",
              "      <td>2</td>\n",
              "    </tr>\n",
              "  </tbody>\n",
              "</table>\n",
              "</div>\n",
              "      <button class=\"colab-df-convert\" onclick=\"convertToInteractive('df-f92463b8-3e4f-4c6e-b7de-bb93364155b1')\"\n",
              "              title=\"Convert this dataframe to an interactive table.\"\n",
              "              style=\"display:none;\">\n",
              "        \n",
              "  <svg xmlns=\"http://www.w3.org/2000/svg\" height=\"24px\"viewBox=\"0 0 24 24\"\n",
              "       width=\"24px\">\n",
              "    <path d=\"M0 0h24v24H0V0z\" fill=\"none\"/>\n",
              "    <path d=\"M18.56 5.44l.94 2.06.94-2.06 2.06-.94-2.06-.94-.94-2.06-.94 2.06-2.06.94zm-11 1L8.5 8.5l.94-2.06 2.06-.94-2.06-.94L8.5 2.5l-.94 2.06-2.06.94zm10 10l.94 2.06.94-2.06 2.06-.94-2.06-.94-.94-2.06-.94 2.06-2.06.94z\"/><path d=\"M17.41 7.96l-1.37-1.37c-.4-.4-.92-.59-1.43-.59-.52 0-1.04.2-1.43.59L10.3 9.45l-7.72 7.72c-.78.78-.78 2.05 0 2.83L4 21.41c.39.39.9.59 1.41.59.51 0 1.02-.2 1.41-.59l7.78-7.78 2.81-2.81c.8-.78.8-2.07 0-2.86zM5.41 20L4 18.59l7.72-7.72 1.47 1.35L5.41 20z\"/>\n",
              "  </svg>\n",
              "      </button>\n",
              "      \n",
              "  <style>\n",
              "    .colab-df-container {\n",
              "      display:flex;\n",
              "      flex-wrap:wrap;\n",
              "      gap: 12px;\n",
              "    }\n",
              "\n",
              "    .colab-df-convert {\n",
              "      background-color: #E8F0FE;\n",
              "      border: none;\n",
              "      border-radius: 50%;\n",
              "      cursor: pointer;\n",
              "      display: none;\n",
              "      fill: #1967D2;\n",
              "      height: 32px;\n",
              "      padding: 0 0 0 0;\n",
              "      width: 32px;\n",
              "    }\n",
              "\n",
              "    .colab-df-convert:hover {\n",
              "      background-color: #E2EBFA;\n",
              "      box-shadow: 0px 1px 2px rgba(60, 64, 67, 0.3), 0px 1px 3px 1px rgba(60, 64, 67, 0.15);\n",
              "      fill: #174EA6;\n",
              "    }\n",
              "\n",
              "    [theme=dark] .colab-df-convert {\n",
              "      background-color: #3B4455;\n",
              "      fill: #D2E3FC;\n",
              "    }\n",
              "\n",
              "    [theme=dark] .colab-df-convert:hover {\n",
              "      background-color: #434B5C;\n",
              "      box-shadow: 0px 1px 3px 1px rgba(0, 0, 0, 0.15);\n",
              "      filter: drop-shadow(0px 1px 2px rgba(0, 0, 0, 0.3));\n",
              "      fill: #FFFFFF;\n",
              "    }\n",
              "  </style>\n",
              "\n",
              "      <script>\n",
              "        const buttonEl =\n",
              "          document.querySelector('#df-f92463b8-3e4f-4c6e-b7de-bb93364155b1 button.colab-df-convert');\n",
              "        buttonEl.style.display =\n",
              "          google.colab.kernel.accessAllowed ? 'block' : 'none';\n",
              "\n",
              "        async function convertToInteractive(key) {\n",
              "          const element = document.querySelector('#df-f92463b8-3e4f-4c6e-b7de-bb93364155b1');\n",
              "          const dataTable =\n",
              "            await google.colab.kernel.invokeFunction('convertToInteractive',\n",
              "                                                     [key], {});\n",
              "          if (!dataTable) return;\n",
              "\n",
              "          const docLinkHtml = 'Like what you see? Visit the ' +\n",
              "            '<a target=\"_blank\" href=https://colab.research.google.com/notebooks/data_table.ipynb>data table notebook</a>'\n",
              "            + ' to learn more about interactive tables.';\n",
              "          element.innerHTML = '';\n",
              "          dataTable['output_type'] = 'display_data';\n",
              "          await google.colab.output.renderOutput(dataTable, element);\n",
              "          const docLink = document.createElement('div');\n",
              "          docLink.innerHTML = docLinkHtml;\n",
              "          element.appendChild(docLink);\n",
              "        }\n",
              "      </script>\n",
              "    </div>\n",
              "  </div>\n",
              "  "
            ]
          },
          "metadata": {},
          "execution_count": 4
        }
      ],
      "source": [
        "# menampilkan 10 data teratas\n",
        "train.head(10)"
      ]
    },
    {
      "cell_type": "code",
      "execution_count": null,
      "metadata": {
        "_kg_hide-output": true,
        "_uuid": "a98e66b89be9c27fa284966eb71ba2ea09b4c5e1",
        "execution": {
          "iopub.execute_input": "2021-10-20T09:15:03.937395Z",
          "iopub.status.busy": "2021-10-20T09:15:03.937057Z",
          "iopub.status.idle": "2021-10-20T09:15:04.498110Z",
          "shell.execute_reply": "2021-10-20T09:15:04.497276Z",
          "shell.execute_reply.started": "2021-10-20T09:15:03.937335Z"
        },
        "id": "PY-n7YfarLzv",
        "colab": {
          "base_uri": "https://localhost:8080/",
          "height": 300
        },
        "outputId": "faa760c6-4bef-4cb5-b217-b11356cfd6fa"
      },
      "outputs": [
        {
          "output_type": "execute_result",
          "data": {
            "text/plain": [
              "         fare_amount  pickup_longitude  pickup_latitude  dropoff_longitude  \\\n",
              "count  200000.000000     200000.000000    200000.000000      199999.000000   \n",
              "mean       11.342877        -72.506121        39.922326         -72.518673   \n",
              "std         9.837855         11.608097        10.048947          10.724226   \n",
              "min       -44.900000       -736.550000     -3116.285383       -1251.195890   \n",
              "25%         6.000000        -73.992050        40.735007         -73.991295   \n",
              "50%         8.500000        -73.981743        40.752761         -73.980072   \n",
              "75%        12.500000        -73.967068        40.767127         -73.963508   \n",
              "max       500.000000       2140.601160      1703.092772          40.851027   \n",
              "\n",
              "       dropoff_latitude  passenger_count  \n",
              "count     199999.000000    200000.000000  \n",
              "mean          39.925579         1.682445  \n",
              "std            6.751120         1.306730  \n",
              "min        -1189.615440         0.000000  \n",
              "25%           40.734092         1.000000  \n",
              "50%           40.753225         1.000000  \n",
              "75%           40.768070         2.000000  \n",
              "max          404.616667         6.000000  "
            ],
            "text/html": [
              "\n",
              "  <div id=\"df-9be14931-1624-46c4-bb49-ff2327bda430\">\n",
              "    <div class=\"colab-df-container\">\n",
              "      <div>\n",
              "<style scoped>\n",
              "    .dataframe tbody tr th:only-of-type {\n",
              "        vertical-align: middle;\n",
              "    }\n",
              "\n",
              "    .dataframe tbody tr th {\n",
              "        vertical-align: top;\n",
              "    }\n",
              "\n",
              "    .dataframe thead th {\n",
              "        text-align: right;\n",
              "    }\n",
              "</style>\n",
              "<table border=\"1\" class=\"dataframe\">\n",
              "  <thead>\n",
              "    <tr style=\"text-align: right;\">\n",
              "      <th></th>\n",
              "      <th>fare_amount</th>\n",
              "      <th>pickup_longitude</th>\n",
              "      <th>pickup_latitude</th>\n",
              "      <th>dropoff_longitude</th>\n",
              "      <th>dropoff_latitude</th>\n",
              "      <th>passenger_count</th>\n",
              "    </tr>\n",
              "  </thead>\n",
              "  <tbody>\n",
              "    <tr>\n",
              "      <th>count</th>\n",
              "      <td>200000.000000</td>\n",
              "      <td>200000.000000</td>\n",
              "      <td>200000.000000</td>\n",
              "      <td>199999.000000</td>\n",
              "      <td>199999.000000</td>\n",
              "      <td>200000.000000</td>\n",
              "    </tr>\n",
              "    <tr>\n",
              "      <th>mean</th>\n",
              "      <td>11.342877</td>\n",
              "      <td>-72.506121</td>\n",
              "      <td>39.922326</td>\n",
              "      <td>-72.518673</td>\n",
              "      <td>39.925579</td>\n",
              "      <td>1.682445</td>\n",
              "    </tr>\n",
              "    <tr>\n",
              "      <th>std</th>\n",
              "      <td>9.837855</td>\n",
              "      <td>11.608097</td>\n",
              "      <td>10.048947</td>\n",
              "      <td>10.724226</td>\n",
              "      <td>6.751120</td>\n",
              "      <td>1.306730</td>\n",
              "    </tr>\n",
              "    <tr>\n",
              "      <th>min</th>\n",
              "      <td>-44.900000</td>\n",
              "      <td>-736.550000</td>\n",
              "      <td>-3116.285383</td>\n",
              "      <td>-1251.195890</td>\n",
              "      <td>-1189.615440</td>\n",
              "      <td>0.000000</td>\n",
              "    </tr>\n",
              "    <tr>\n",
              "      <th>25%</th>\n",
              "      <td>6.000000</td>\n",
              "      <td>-73.992050</td>\n",
              "      <td>40.735007</td>\n",
              "      <td>-73.991295</td>\n",
              "      <td>40.734092</td>\n",
              "      <td>1.000000</td>\n",
              "    </tr>\n",
              "    <tr>\n",
              "      <th>50%</th>\n",
              "      <td>8.500000</td>\n",
              "      <td>-73.981743</td>\n",
              "      <td>40.752761</td>\n",
              "      <td>-73.980072</td>\n",
              "      <td>40.753225</td>\n",
              "      <td>1.000000</td>\n",
              "    </tr>\n",
              "    <tr>\n",
              "      <th>75%</th>\n",
              "      <td>12.500000</td>\n",
              "      <td>-73.967068</td>\n",
              "      <td>40.767127</td>\n",
              "      <td>-73.963508</td>\n",
              "      <td>40.768070</td>\n",
              "      <td>2.000000</td>\n",
              "    </tr>\n",
              "    <tr>\n",
              "      <th>max</th>\n",
              "      <td>500.000000</td>\n",
              "      <td>2140.601160</td>\n",
              "      <td>1703.092772</td>\n",
              "      <td>40.851027</td>\n",
              "      <td>404.616667</td>\n",
              "      <td>6.000000</td>\n",
              "    </tr>\n",
              "  </tbody>\n",
              "</table>\n",
              "</div>\n",
              "      <button class=\"colab-df-convert\" onclick=\"convertToInteractive('df-9be14931-1624-46c4-bb49-ff2327bda430')\"\n",
              "              title=\"Convert this dataframe to an interactive table.\"\n",
              "              style=\"display:none;\">\n",
              "        \n",
              "  <svg xmlns=\"http://www.w3.org/2000/svg\" height=\"24px\"viewBox=\"0 0 24 24\"\n",
              "       width=\"24px\">\n",
              "    <path d=\"M0 0h24v24H0V0z\" fill=\"none\"/>\n",
              "    <path d=\"M18.56 5.44l.94 2.06.94-2.06 2.06-.94-2.06-.94-.94-2.06-.94 2.06-2.06.94zm-11 1L8.5 8.5l.94-2.06 2.06-.94-2.06-.94L8.5 2.5l-.94 2.06-2.06.94zm10 10l.94 2.06.94-2.06 2.06-.94-2.06-.94-.94-2.06-.94 2.06-2.06.94z\"/><path d=\"M17.41 7.96l-1.37-1.37c-.4-.4-.92-.59-1.43-.59-.52 0-1.04.2-1.43.59L10.3 9.45l-7.72 7.72c-.78.78-.78 2.05 0 2.83L4 21.41c.39.39.9.59 1.41.59.51 0 1.02-.2 1.41-.59l7.78-7.78 2.81-2.81c.8-.78.8-2.07 0-2.86zM5.41 20L4 18.59l7.72-7.72 1.47 1.35L5.41 20z\"/>\n",
              "  </svg>\n",
              "      </button>\n",
              "      \n",
              "  <style>\n",
              "    .colab-df-container {\n",
              "      display:flex;\n",
              "      flex-wrap:wrap;\n",
              "      gap: 12px;\n",
              "    }\n",
              "\n",
              "    .colab-df-convert {\n",
              "      background-color: #E8F0FE;\n",
              "      border: none;\n",
              "      border-radius: 50%;\n",
              "      cursor: pointer;\n",
              "      display: none;\n",
              "      fill: #1967D2;\n",
              "      height: 32px;\n",
              "      padding: 0 0 0 0;\n",
              "      width: 32px;\n",
              "    }\n",
              "\n",
              "    .colab-df-convert:hover {\n",
              "      background-color: #E2EBFA;\n",
              "      box-shadow: 0px 1px 2px rgba(60, 64, 67, 0.3), 0px 1px 3px 1px rgba(60, 64, 67, 0.15);\n",
              "      fill: #174EA6;\n",
              "    }\n",
              "\n",
              "    [theme=dark] .colab-df-convert {\n",
              "      background-color: #3B4455;\n",
              "      fill: #D2E3FC;\n",
              "    }\n",
              "\n",
              "    [theme=dark] .colab-df-convert:hover {\n",
              "      background-color: #434B5C;\n",
              "      box-shadow: 0px 1px 3px 1px rgba(0, 0, 0, 0.15);\n",
              "      filter: drop-shadow(0px 1px 2px rgba(0, 0, 0, 0.3));\n",
              "      fill: #FFFFFF;\n",
              "    }\n",
              "  </style>\n",
              "\n",
              "      <script>\n",
              "        const buttonEl =\n",
              "          document.querySelector('#df-9be14931-1624-46c4-bb49-ff2327bda430 button.colab-df-convert');\n",
              "        buttonEl.style.display =\n",
              "          google.colab.kernel.accessAllowed ? 'block' : 'none';\n",
              "\n",
              "        async function convertToInteractive(key) {\n",
              "          const element = document.querySelector('#df-9be14931-1624-46c4-bb49-ff2327bda430');\n",
              "          const dataTable =\n",
              "            await google.colab.kernel.invokeFunction('convertToInteractive',\n",
              "                                                     [key], {});\n",
              "          if (!dataTable) return;\n",
              "\n",
              "          const docLinkHtml = 'Like what you see? Visit the ' +\n",
              "            '<a target=\"_blank\" href=https://colab.research.google.com/notebooks/data_table.ipynb>data table notebook</a>'\n",
              "            + ' to learn more about interactive tables.';\n",
              "          element.innerHTML = '';\n",
              "          dataTable['output_type'] = 'display_data';\n",
              "          await google.colab.output.renderOutput(dataTable, element);\n",
              "          const docLink = document.createElement('div');\n",
              "          docLink.innerHTML = docLinkHtml;\n",
              "          element.appendChild(docLink);\n",
              "        }\n",
              "      </script>\n",
              "    </div>\n",
              "  </div>\n",
              "  "
            ]
          },
          "metadata": {},
          "execution_count": 5
        }
      ],
      "source": [
        "# fungsi describe() untuk mengetahui statistika data untuk data numeric seperti count, mean, standard deviation, maximum, mininum, dan quartile.\n",
        "train.describe()"
      ]
    },
    {
      "cell_type": "code",
      "execution_count": null,
      "metadata": {
        "_kg_hide-output": true,
        "_uuid": "0b18baf8d30016a2d3012c33a7b28068b045ad08",
        "execution": {
          "iopub.execute_input": "2021-10-20T09:15:09.618918Z",
          "iopub.status.busy": "2021-10-20T09:15:09.618451Z",
          "iopub.status.idle": "2021-10-20T09:15:09.962835Z",
          "shell.execute_reply": "2021-10-20T09:15:09.962032Z",
          "shell.execute_reply.started": "2021-10-20T09:15:09.618686Z"
        },
        "id": "TJnPjlOArLzx",
        "colab": {
          "base_uri": "https://localhost:8080/"
        },
        "outputId": "410dac25-2096-46a8-d8f5-93b32ea44815"
      },
      "outputs": [
        {
          "output_type": "execute_result",
          "data": {
            "text/plain": [
              "dropoff_longitude    1\n",
              "dropoff_latitude     1\n",
              "key                  0\n",
              "fare_amount          0\n",
              "pickup_datetime      0\n",
              "pickup_longitude     0\n",
              "pickup_latitude      0\n",
              "passenger_count      0\n",
              "dtype: int64"
            ]
          },
          "metadata": {},
          "execution_count": 6
        }
      ],
      "source": [
        "#cek nilai yang hilang / missing values di dalam data train\n",
        "train.isnull().sum().sort_values(ascending=False)"
      ]
    },
    {
      "cell_type": "markdown",
      "metadata": {
        "id": "vB4L_R_prLzy"
      },
      "source": [
        "Missing values adalah nilai yang tidak terdefinisi di dataset. Bentuknya beragam, bisa berupa blank cell, ataupun simbol-simbol tertentu seperti NaN (Not a Number), NA (Not Available), ?, -, dan sebagainya. Missing values dapat menjadi masalah dalam analisis data serta tentunya dapat mempengaruhi hasil modelling machine learning. **Dari hasil diatas data train mengandung 10 data missing values pada kolom/field dropoff_latitude dan dropoff_longitude.**"
      ]
    },
    {
      "cell_type": "markdown",
      "metadata": {
        "id": "R0URMrwNrLzz"
      },
      "source": [
        "Dari hasil diatas data test ternyata tidak memiliki missing values"
      ]
    },
    {
      "cell_type": "code",
      "execution_count": null,
      "metadata": {
        "_uuid": "5c861be6ec1b95017a0b95d88d4452717e8a1f5e",
        "execution": {
          "iopub.execute_input": "2021-10-20T09:15:25.585373Z",
          "iopub.status.busy": "2021-10-20T09:15:25.584742Z",
          "iopub.status.idle": "2021-10-20T09:15:26.079386Z",
          "shell.execute_reply": "2021-10-20T09:15:26.078413Z",
          "shell.execute_reply.started": "2021-10-20T09:15:25.585304Z"
        },
        "id": "gDenKIZcrLz0"
      },
      "outputs": [],
      "source": [
        "#drop/hapus data missing values\n",
        "train = train.drop(train[train.isnull().any(1)].index, axis = 0)"
      ]
    },
    {
      "cell_type": "code",
      "execution_count": null,
      "metadata": {
        "_uuid": "ae6a2b631826cbab3e7925d236f884607ae26fd6",
        "execution": {
          "iopub.execute_input": "2021-10-20T09:15:28.098971Z",
          "iopub.status.busy": "2021-10-20T09:15:28.098649Z",
          "iopub.status.idle": "2021-10-20T09:15:28.103535Z",
          "shell.execute_reply": "2021-10-20T09:15:28.102744Z",
          "shell.execute_reply.started": "2021-10-20T09:15:28.098905Z"
        },
        "id": "ck5qPiOQrLz1",
        "colab": {
          "base_uri": "https://localhost:8080/"
        },
        "outputId": "87fc1c34-2da4-49be-cbf4-c325725a7a93"
      },
      "outputs": [
        {
          "output_type": "execute_result",
          "data": {
            "text/plain": [
              "(199999, 8)"
            ]
          },
          "metadata": {},
          "execution_count": 8
        }
      ],
      "source": [
        "train.shape"
      ]
    },
    {
      "cell_type": "markdown",
      "metadata": {
        "id": "yL-JlTk_rLz1"
      },
      "source": [
        "Diatas dapat terlihat hasil dimensi/shape data setelah drop/hapus missing values"
      ]
    },
    {
      "cell_type": "markdown",
      "metadata": {
        "id": "lyn0HT-qrLz2"
      },
      "source": [
        "**Melakukan pemeriksaan dan membersihkan data yang dinilai 'anomali' setiap kolom pada data train:**\n",
        "1. fare_amount\n",
        "2. passanger_count\n",
        "3. pickup_longitude\n",
        "4. pickup_latitude\n",
        "5. dropoff_longitude \n",
        "6. dropoff_latitude"
      ]
    },
    {
      "cell_type": "code",
      "execution_count": null,
      "metadata": {
        "_kg_hide-output": true,
        "_uuid": "6719a8e5d3dfb155d189e86f481e1ec36afadec7",
        "execution": {
          "iopub.execute_input": "2021-10-20T09:15:31.582137Z",
          "iopub.status.busy": "2021-10-20T09:15:31.581488Z",
          "iopub.status.idle": "2021-10-20T09:15:31.663710Z",
          "shell.execute_reply": "2021-10-20T09:15:31.662800Z",
          "shell.execute_reply.started": "2021-10-20T09:15:31.582055Z"
        },
        "id": "S8UocSWMrLz3",
        "colab": {
          "base_uri": "https://localhost:8080/"
        },
        "outputId": "5a92d759-4cb0-4935-beeb-4c2ccae4b655"
      },
      "outputs": [
        {
          "output_type": "execute_result",
          "data": {
            "text/plain": [
              "count    199999.000000\n",
              "mean         11.342871\n",
              "std           9.837879\n",
              "min         -44.900000\n",
              "25%           6.000000\n",
              "50%           8.500000\n",
              "75%          12.500000\n",
              "max         500.000000\n",
              "Name: fare_amount, dtype: float64"
            ]
          },
          "metadata": {},
          "execution_count": 9
        }
      ],
      "source": [
        "# periksa kolom target yaitu kolom fare_amount\n",
        "train['fare_amount'].describe()"
      ]
    },
    {
      "cell_type": "markdown",
      "metadata": {
        "id": "jjUPs1XerLz4"
      },
      "source": [
        "data target adalah fitur dari dataset yang ingin Anda pahami lebih dalam.\n",
        "**Dari output diatas**, kolom target Fare amount/jumlah tarif memiliki nilai negatif, yang tidak masuk akal. Dan kita Hapus kolom ini."
      ]
    },
    {
      "cell_type": "code",
      "execution_count": null,
      "metadata": {
        "_uuid": "f4c6018d2bef8ad5c8c4ce80811f601da66083e2",
        "execution": {
          "iopub.execute_input": "2021-10-20T09:15:37.610967Z",
          "iopub.status.busy": "2021-10-20T09:15:37.610354Z",
          "iopub.status.idle": "2021-10-20T09:15:37.690746Z",
          "shell.execute_reply": "2021-10-20T09:15:37.689895Z",
          "shell.execute_reply.started": "2021-10-20T09:15:37.610899Z"
        },
        "id": "OzKqORZmrLz4",
        "colab": {
          "base_uri": "https://localhost:8080/"
        },
        "outputId": "73f2df6b-cce5-4821-f6cd-f81b99687a2d"
      },
      "outputs": [
        {
          "output_type": "execute_result",
          "data": {
            "text/plain": [
              "Counter({False: 199986, True: 13})"
            ]
          },
          "metadata": {},
          "execution_count": 10
        }
      ],
      "source": [
        "# Seleksi nilai negatif tsb, dan menghasilkan 38 kolom fare_amount memiliki nilai negatif \n",
        "from collections import Counter\n",
        "Counter(train['fare_amount']<0)"
      ]
    },
    {
      "cell_type": "code",
      "execution_count": null,
      "metadata": {
        "_uuid": "bd531f39d88ebdf5aaee0068e01a70d752999096",
        "execution": {
          "iopub.execute_input": "2021-10-20T09:15:42.756863Z",
          "iopub.status.busy": "2021-10-20T09:15:42.756567Z",
          "iopub.status.idle": "2021-10-20T09:15:42.943714Z",
          "shell.execute_reply": "2021-10-20T09:15:42.943011Z",
          "shell.execute_reply.started": "2021-10-20T09:15:42.756804Z"
        },
        "id": "ydq-eGI4rLz5",
        "colab": {
          "base_uri": "https://localhost:8080/"
        },
        "outputId": "c1e808ab-4e4f-4903-a21d-65d7053d4005"
      },
      "outputs": [
        {
          "output_type": "execute_result",
          "data": {
            "text/plain": [
              "(199986, 8)"
            ]
          },
          "metadata": {},
          "execution_count": 11
        }
      ],
      "source": [
        "# Hapus nilai negatif kemudian cek dimensi data dengan fungsi .shape\n",
        "train = train.drop(train[train['fare_amount']<0].index, axis=0)\n",
        "train.shape"
      ]
    },
    {
      "cell_type": "code",
      "execution_count": null,
      "metadata": {
        "_kg_hide-output": true,
        "_uuid": "397b9b61bd27e5d05f937de092140df0e765b9b5",
        "execution": {
          "iopub.execute_input": "2021-10-20T09:15:46.926609Z",
          "iopub.status.busy": "2021-10-20T09:15:46.926143Z",
          "iopub.status.idle": "2021-10-20T09:15:47.004816Z",
          "shell.execute_reply": "2021-10-20T09:15:47.003989Z",
          "shell.execute_reply.started": "2021-10-20T09:15:46.926409Z"
        },
        "id": "ZolXFzNdrLz6",
        "colab": {
          "base_uri": "https://localhost:8080/"
        },
        "outputId": "f719a3f9-a33b-461d-b062-82cff88a4dd8"
      },
      "outputs": [
        {
          "output_type": "execute_result",
          "data": {
            "text/plain": [
              "count    199986.000000\n",
              "mean         11.344032\n",
              "std           9.836736\n",
              "min           0.000000\n",
              "25%           6.000000\n",
              "50%           8.500000\n",
              "75%          12.500000\n",
              "max         500.000000\n",
              "Name: fare_amount, dtype: float64"
            ]
          },
          "metadata": {},
          "execution_count": 12
        }
      ],
      "source": [
        "# dan terlihat pada output tidak ada lagi nilai negatif pada kolom fare_amount\n",
        "train['fare_amount'].describe()"
      ]
    },
    {
      "cell_type": "code",
      "execution_count": null,
      "metadata": {
        "_kg_hide-output": true,
        "_uuid": "4cf0dafef4aaf80c13721a3404ad3dbc759cd65e",
        "execution": {
          "iopub.execute_input": "2021-10-20T09:16:27.982967Z",
          "iopub.status.busy": "2021-10-20T09:16:27.982618Z",
          "iopub.status.idle": "2021-10-20T09:16:28.122102Z",
          "shell.execute_reply": "2021-10-20T09:16:28.121377Z",
          "shell.execute_reply.started": "2021-10-20T09:16:27.982899Z"
        },
        "id": "eLQZ-0oBrLz6",
        "colab": {
          "base_uri": "https://localhost:8080/"
        },
        "outputId": "27037b67-9ce5-4ea0-9030-c00b56d0db0c"
      },
      "outputs": [
        {
          "output_type": "execute_result",
          "data": {
            "text/plain": [
              "101885    500.00\n",
              "130460    281.05\n",
              "142550    255.00\n",
              "149769    240.00\n",
              "168218    235.00\n",
              "           ...  \n",
              "27891       0.00\n",
              "105051      0.00\n",
              "10002       0.00\n",
              "175352      0.00\n",
              "47302       0.00\n",
              "Name: fare_amount, Length: 199986, dtype: float64"
            ]
          },
          "metadata": {},
          "execution_count": 13
        }
      ],
      "source": [
        "# terlihat pada output jumlah tarif tertiggi adalah $500\n",
        "train['fare_amount'].sort_values(ascending=False)"
      ]
    },
    {
      "cell_type": "markdown",
      "metadata": {
        "_uuid": "94bba1478130e361a935fc2eae552f3fdb5cfae9",
        "id": "THNEtIl6rLz7"
      },
      "source": [
        "**Selanjutnya periksa kolom passenger_count**"
      ]
    },
    {
      "cell_type": "code",
      "execution_count": null,
      "metadata": {
        "_kg_hide-output": true,
        "_uuid": "35df6fbd1aab70134962dd4bb58edda7e29fca61",
        "execution": {
          "iopub.execute_input": "2021-10-20T09:23:24.749489Z",
          "iopub.status.busy": "2021-10-20T09:23:24.749166Z",
          "iopub.status.idle": "2021-10-20T09:23:24.818479Z",
          "shell.execute_reply": "2021-10-20T09:23:24.817723Z",
          "shell.execute_reply.started": "2021-10-20T09:23:24.749452Z"
        },
        "id": "c8ELXwOIrLz7",
        "colab": {
          "base_uri": "https://localhost:8080/"
        },
        "outputId": "e5c93c77-21d2-41a5-886c-9c98c9515ec6"
      },
      "outputs": [
        {
          "output_type": "execute_result",
          "data": {
            "text/plain": [
              "count    199986.000000\n",
              "mean          1.682423\n",
              "std           1.306692\n",
              "min           0.000000\n",
              "25%           1.000000\n",
              "50%           1.000000\n",
              "75%           2.000000\n",
              "max           6.000000\n",
              "Name: passenger_count, dtype: float64"
            ]
          },
          "metadata": {},
          "execution_count": 14
        }
      ],
      "source": [
        "train['passenger_count'].describe()"
      ]
    },
    {
      "cell_type": "code",
      "execution_count": null,
      "metadata": {
        "_uuid": "12f7f4f99a082c3d08bf100d9dad8e7395d5e420",
        "execution": {
          "iopub.execute_input": "2021-10-20T09:26:21.887987Z",
          "iopub.status.busy": "2021-10-20T09:26:21.887723Z",
          "iopub.status.idle": "2021-10-20T09:26:21.914262Z",
          "shell.execute_reply": "2021-10-20T09:26:21.913707Z",
          "shell.execute_reply.started": "2021-10-20T09:26:21.887954Z"
        },
        "id": "3vTfpYKnrLz8",
        "colab": {
          "base_uri": "https://localhost:8080/",
          "height": 50
        },
        "outputId": "6aaf0ba7-b82e-41cc-cb9d-9bfd5b971105"
      },
      "outputs": [
        {
          "output_type": "execute_result",
          "data": {
            "text/plain": [
              "Empty DataFrame\n",
              "Columns: [key, fare_amount, pickup_datetime, pickup_longitude, pickup_latitude, dropoff_longitude, dropoff_latitude, passenger_count]\n",
              "Index: []"
            ],
            "text/html": [
              "\n",
              "  <div id=\"df-13485c23-0186-46fa-8884-8e62ca7a0e1a\">\n",
              "    <div class=\"colab-df-container\">\n",
              "      <div>\n",
              "<style scoped>\n",
              "    .dataframe tbody tr th:only-of-type {\n",
              "        vertical-align: middle;\n",
              "    }\n",
              "\n",
              "    .dataframe tbody tr th {\n",
              "        vertical-align: top;\n",
              "    }\n",
              "\n",
              "    .dataframe thead th {\n",
              "        text-align: right;\n",
              "    }\n",
              "</style>\n",
              "<table border=\"1\" class=\"dataframe\">\n",
              "  <thead>\n",
              "    <tr style=\"text-align: right;\">\n",
              "      <th></th>\n",
              "      <th>key</th>\n",
              "      <th>fare_amount</th>\n",
              "      <th>pickup_datetime</th>\n",
              "      <th>pickup_longitude</th>\n",
              "      <th>pickup_latitude</th>\n",
              "      <th>dropoff_longitude</th>\n",
              "      <th>dropoff_latitude</th>\n",
              "      <th>passenger_count</th>\n",
              "    </tr>\n",
              "  </thead>\n",
              "  <tbody>\n",
              "  </tbody>\n",
              "</table>\n",
              "</div>\n",
              "      <button class=\"colab-df-convert\" onclick=\"convertToInteractive('df-13485c23-0186-46fa-8884-8e62ca7a0e1a')\"\n",
              "              title=\"Convert this dataframe to an interactive table.\"\n",
              "              style=\"display:none;\">\n",
              "        \n",
              "  <svg xmlns=\"http://www.w3.org/2000/svg\" height=\"24px\"viewBox=\"0 0 24 24\"\n",
              "       width=\"24px\">\n",
              "    <path d=\"M0 0h24v24H0V0z\" fill=\"none\"/>\n",
              "    <path d=\"M18.56 5.44l.94 2.06.94-2.06 2.06-.94-2.06-.94-.94-2.06-.94 2.06-2.06.94zm-11 1L8.5 8.5l.94-2.06 2.06-.94-2.06-.94L8.5 2.5l-.94 2.06-2.06.94zm10 10l.94 2.06.94-2.06 2.06-.94-2.06-.94-.94-2.06-.94 2.06-2.06.94z\"/><path d=\"M17.41 7.96l-1.37-1.37c-.4-.4-.92-.59-1.43-.59-.52 0-1.04.2-1.43.59L10.3 9.45l-7.72 7.72c-.78.78-.78 2.05 0 2.83L4 21.41c.39.39.9.59 1.41.59.51 0 1.02-.2 1.41-.59l7.78-7.78 2.81-2.81c.8-.78.8-2.07 0-2.86zM5.41 20L4 18.59l7.72-7.72 1.47 1.35L5.41 20z\"/>\n",
              "  </svg>\n",
              "      </button>\n",
              "      \n",
              "  <style>\n",
              "    .colab-df-container {\n",
              "      display:flex;\n",
              "      flex-wrap:wrap;\n",
              "      gap: 12px;\n",
              "    }\n",
              "\n",
              "    .colab-df-convert {\n",
              "      background-color: #E8F0FE;\n",
              "      border: none;\n",
              "      border-radius: 50%;\n",
              "      cursor: pointer;\n",
              "      display: none;\n",
              "      fill: #1967D2;\n",
              "      height: 32px;\n",
              "      padding: 0 0 0 0;\n",
              "      width: 32px;\n",
              "    }\n",
              "\n",
              "    .colab-df-convert:hover {\n",
              "      background-color: #E2EBFA;\n",
              "      box-shadow: 0px 1px 2px rgba(60, 64, 67, 0.3), 0px 1px 3px 1px rgba(60, 64, 67, 0.15);\n",
              "      fill: #174EA6;\n",
              "    }\n",
              "\n",
              "    [theme=dark] .colab-df-convert {\n",
              "      background-color: #3B4455;\n",
              "      fill: #D2E3FC;\n",
              "    }\n",
              "\n",
              "    [theme=dark] .colab-df-convert:hover {\n",
              "      background-color: #434B5C;\n",
              "      box-shadow: 0px 1px 3px 1px rgba(0, 0, 0, 0.15);\n",
              "      filter: drop-shadow(0px 1px 2px rgba(0, 0, 0, 0.3));\n",
              "      fill: #FFFFFF;\n",
              "    }\n",
              "  </style>\n",
              "\n",
              "      <script>\n",
              "        const buttonEl =\n",
              "          document.querySelector('#df-13485c23-0186-46fa-8884-8e62ca7a0e1a button.colab-df-convert');\n",
              "        buttonEl.style.display =\n",
              "          google.colab.kernel.accessAllowed ? 'block' : 'none';\n",
              "\n",
              "        async function convertToInteractive(key) {\n",
              "          const element = document.querySelector('#df-13485c23-0186-46fa-8884-8e62ca7a0e1a');\n",
              "          const dataTable =\n",
              "            await google.colab.kernel.invokeFunction('convertToInteractive',\n",
              "                                                     [key], {});\n",
              "          if (!dataTable) return;\n",
              "\n",
              "          const docLinkHtml = 'Like what you see? Visit the ' +\n",
              "            '<a target=\"_blank\" href=https://colab.research.google.com/notebooks/data_table.ipynb>data table notebook</a>'\n",
              "            + ' to learn more about interactive tables.';\n",
              "          element.innerHTML = '';\n",
              "          dataTable['output_type'] = 'display_data';\n",
              "          await google.colab.output.renderOutput(dataTable, element);\n",
              "          const docLink = document.createElement('div');\n",
              "          docLink.innerHTML = docLinkHtml;\n",
              "          element.appendChild(docLink);\n",
              "        }\n",
              "      </script>\n",
              "    </div>\n",
              "  </div>\n",
              "  "
            ]
          },
          "metadata": {},
          "execution_count": 15
        }
      ],
      "source": [
        "# Misal asumsi, menurut aturan batas maksimum penumpang dalam sebuah taksi adalah 6\n",
        "# ini PASTI outlier. Mari kita drop/hapus\n",
        "train[train['passenger_count']>6]"
      ]
    },
    {
      "cell_type": "code",
      "execution_count": null,
      "metadata": {
        "_kg_hide-output": true,
        "_uuid": "39bc70eb463712ecf9313e98d858bd979c7b2074",
        "execution": {
          "iopub.execute_input": "2021-10-20T09:27:41.201748Z",
          "iopub.status.busy": "2021-10-20T09:27:41.201462Z",
          "iopub.status.idle": "2021-10-20T09:27:41.277345Z",
          "shell.execute_reply": "2021-10-20T09:27:41.276421Z",
          "shell.execute_reply.started": "2021-10-20T09:27:41.201705Z"
        },
        "id": "GqkczgNRrLz8",
        "colab": {
          "base_uri": "https://localhost:8080/"
        },
        "outputId": "56b892b8-86a8-4825-f0cb-cbfe731a4e8a"
      },
      "outputs": [
        {
          "output_type": "execute_result",
          "data": {
            "text/plain": [
              "count    199986.000000\n",
              "mean          1.682423\n",
              "std           1.306692\n",
              "min           0.000000\n",
              "25%           1.000000\n",
              "50%           1.000000\n",
              "75%           2.000000\n",
              "max           6.000000\n",
              "Name: passenger_count, dtype: float64"
            ]
          },
          "metadata": {},
          "execution_count": 16
        }
      ],
      "source": [
        "# jauh lebih rapi sekarang! Jumlah penumpang maksimal adalah 6.\n",
        "train['passenger_count'].describe()"
      ]
    },
    {
      "cell_type": "markdown",
      "metadata": {
        "id": "CfzDIuY7rLz9"
      },
      "source": [
        "**Selanjutnya periksa kolom pickup_latitude dan pickup_longitudes**"
      ]
    },
    {
      "cell_type": "code",
      "execution_count": null,
      "metadata": {
        "_kg_hide-output": true,
        "_uuid": "539a66d6677957e3b1c3e77f5db77f4e9b3f419b",
        "execution": {
          "iopub.execute_input": "2021-10-20T09:28:45.589828Z",
          "iopub.status.busy": "2021-10-20T09:28:45.589492Z",
          "iopub.status.idle": "2021-10-20T09:28:45.668028Z",
          "shell.execute_reply": "2021-10-20T09:28:45.667102Z",
          "shell.execute_reply.started": "2021-10-20T09:28:45.589766Z"
        },
        "id": "Q8MKAoeorLz9"
      },
      "outputs": [],
      "source": [
        "# mari kita eksplore kolom pickup latitude dan longitudes\n",
        "train['pickup_latitude'].describe()"
      ]
    },
    {
      "cell_type": "markdown",
      "metadata": {
        "_uuid": "e806a4db779a817cff657b5434d2103977efcb8a",
        "id": "tLOerpVGrLz9"
      },
      "source": [
        "* Garis lintang berkisar dari -90 hingga 90.\n",
        "* Garis bujur berkisar dari -180 hingga 180.\n",
        "\n",
        "Uraian di atas dengan jelas menunjukkan beberapa outlier. Mari kita saring mereka"
      ]
    },
    {
      "cell_type": "code",
      "execution_count": null,
      "metadata": {
        "_uuid": "7245a4b3488926be31d785bc05e20c2587f50d39",
        "execution": {
          "iopub.execute_input": "2021-10-20T09:30:50.046500Z",
          "iopub.status.busy": "2021-10-20T09:30:50.046157Z",
          "iopub.status.idle": "2021-10-20T09:30:50.071930Z",
          "shell.execute_reply": "2021-10-20T09:30:50.071025Z",
          "shell.execute_reply.started": "2021-10-20T09:30:50.046453Z"
        },
        "id": "4C4bqRp0rLz-"
      },
      "outputs": [],
      "source": [
        "train[train['pickup_latitude']<-90]"
      ]
    },
    {
      "cell_type": "code",
      "execution_count": null,
      "metadata": {
        "_uuid": "8079237f624f389253f36386ef5dc65cd25f97e4",
        "execution": {
          "iopub.execute_input": "2021-10-20T09:30:59.471108Z",
          "iopub.status.busy": "2021-10-20T09:30:59.470825Z",
          "iopub.status.idle": "2021-10-20T09:30:59.497419Z",
          "shell.execute_reply": "2021-10-20T09:30:59.496694Z",
          "shell.execute_reply.started": "2021-10-20T09:30:59.471065Z"
        },
        "id": "c3BpPtPhrLz-"
      },
      "outputs": [],
      "source": [
        "train[train['pickup_latitude']>90]"
      ]
    },
    {
      "cell_type": "code",
      "execution_count": null,
      "metadata": {
        "_kg_hide-output": true,
        "_uuid": "90fbfd284e8816cea4e27858d979abdc205bfd9d",
        "execution": {
          "iopub.execute_input": "2021-10-20T09:31:22.904525Z",
          "iopub.status.busy": "2021-10-20T09:31:22.904162Z",
          "iopub.status.idle": "2021-10-20T09:31:23.194500Z",
          "shell.execute_reply": "2021-10-20T09:31:23.193465Z",
          "shell.execute_reply.started": "2021-10-20T09:31:22.904460Z"
        },
        "id": "-IwN97HQrLz_"
      },
      "outputs": [],
      "source": [
        "# lalu kita hapus data outliers tsb\n",
        "train = train.drop((train[train['pickup_latitude']<-90]).index|(train[train['pickup_latitude']>90]).index, axis = 0)"
      ]
    },
    {
      "cell_type": "code",
      "execution_count": null,
      "metadata": {
        "_kg_hide-output": true,
        "_uuid": "b59f14fdc9955b0637893697b1377d7a3ff40113",
        "execution": {
          "iopub.execute_input": "2021-10-20T09:31:43.073532Z",
          "iopub.status.busy": "2021-10-20T09:31:43.073184Z",
          "iopub.status.idle": "2021-10-20T09:31:43.079467Z",
          "shell.execute_reply": "2021-10-20T09:31:43.078754Z",
          "shell.execute_reply.started": "2021-10-20T09:31:43.073468Z"
        },
        "id": "7JIAPA-hrLz_"
      },
      "outputs": [],
      "source": [
        "#12 baris terhapus\n",
        "train.shape"
      ]
    },
    {
      "cell_type": "code",
      "execution_count": null,
      "metadata": {
        "_kg_hide-output": true,
        "_uuid": "fda34b448ce42ab20f1f4a27f816bcc1f1500785",
        "execution": {
          "iopub.execute_input": "2021-10-20T09:32:30.701097Z",
          "iopub.status.busy": "2021-10-20T09:32:30.700804Z",
          "iopub.status.idle": "2021-10-20T09:32:30.779525Z",
          "shell.execute_reply": "2021-10-20T09:32:30.778717Z",
          "shell.execute_reply.started": "2021-10-20T09:32:30.701045Z"
        },
        "id": "864lg1JyrLz_"
      },
      "outputs": [],
      "source": [
        "# lakukan operasi yang sama untuk kolom pickup longitude\n",
        "train['pickup_longitude'].describe()"
      ]
    },
    {
      "cell_type": "code",
      "execution_count": null,
      "metadata": {
        "_kg_hide-output": true,
        "_uuid": "03909e003059735d43c4d6e3408cd5911663909d",
        "execution": {
          "iopub.execute_input": "2021-10-20T09:32:38.365799Z",
          "iopub.status.busy": "2021-10-20T09:32:38.365344Z",
          "iopub.status.idle": "2021-10-20T09:32:38.396032Z",
          "shell.execute_reply": "2021-10-20T09:32:38.395371Z",
          "shell.execute_reply.started": "2021-10-20T09:32:38.365754Z"
        },
        "id": "RnMYAiZ7rL0A"
      },
      "outputs": [],
      "source": [
        "# cek data yang bernilai lebih dari -180\n",
        "train[train['pickup_longitude']<-180]"
      ]
    },
    {
      "cell_type": "code",
      "execution_count": null,
      "metadata": {
        "_kg_hide-output": true,
        "_uuid": "77a4b7bbfc31770b9614968f7abbd16b055d9e37",
        "execution": {
          "iopub.execute_input": "2021-10-20T09:32:56.392794Z",
          "iopub.status.busy": "2021-10-20T09:32:56.392497Z",
          "iopub.status.idle": "2021-10-20T09:32:56.405107Z",
          "shell.execute_reply": "2021-10-20T09:32:56.404234Z",
          "shell.execute_reply.started": "2021-10-20T09:32:56.392750Z"
        },
        "id": "W_0dkaBwrL0A"
      },
      "outputs": [],
      "source": [
        "# cek data yang bernilai lebih dari 180\n",
        "train[train['pickup_longitude']>180]"
      ]
    },
    {
      "cell_type": "code",
      "execution_count": null,
      "metadata": {
        "id": "Z7paKMpNrL0B"
      },
      "outputs": [],
      "source": [
        "train = train.drop(train[train['pickup_longitude']<-180].index, axis = 0)"
      ]
    },
    {
      "cell_type": "markdown",
      "metadata": {
        "id": "15p8vlH4rL0B"
      },
      "source": [
        "**Selanjutnya periksa kolom dropoff_latitude dan dropoff_longitudes**"
      ]
    },
    {
      "cell_type": "code",
      "execution_count": null,
      "metadata": {
        "_kg_hide-output": true,
        "_uuid": "442d8e81127ea65a1c6c7da62a29ab02e1a3ee1d",
        "execution": {
          "iopub.execute_input": "2021-10-20T09:34:41.864931Z",
          "iopub.status.busy": "2021-10-20T09:34:41.864454Z",
          "iopub.status.idle": "2021-10-20T09:34:41.891619Z",
          "shell.execute_reply": "2021-10-20T09:34:41.890628Z",
          "shell.execute_reply.started": "2021-10-20T09:34:41.864717Z"
        },
        "id": "vNYULSHHrL0C"
      },
      "outputs": [],
      "source": [
        "#lakukan operasi yang sama untuk kolom dropoff latitude and longitude\n",
        "# cek data yang bernilai lebih dari -90\n",
        "train[train['dropoff_latitude']<-90]"
      ]
    },
    {
      "cell_type": "code",
      "execution_count": null,
      "metadata": {
        "_kg_hide-output": true,
        "_uuid": "c9dfc75fa94351b40796abb43a9bee5f3891e246",
        "execution": {
          "iopub.execute_input": "2021-10-20T09:34:48.295893Z",
          "iopub.status.busy": "2021-10-20T09:34:48.295331Z",
          "iopub.status.idle": "2021-10-20T09:34:48.322137Z",
          "shell.execute_reply": "2021-10-20T09:34:48.321569Z",
          "shell.execute_reply.started": "2021-10-20T09:34:48.295846Z"
        },
        "id": "LEa4VQ_6rL0D"
      },
      "outputs": [],
      "source": [
        "# cek data yang bernilai lebih dari 90\n",
        "train[train['dropoff_latitude']>90]"
      ]
    },
    {
      "cell_type": "code",
      "execution_count": null,
      "metadata": {
        "_uuid": "64612fe9653b0c692e9f9a948ac9d5b00fc5a315",
        "execution": {
          "iopub.execute_input": "2021-10-20T09:34:54.940074Z",
          "iopub.status.busy": "2021-10-20T09:34:54.939473Z",
          "iopub.status.idle": "2021-10-20T09:34:55.114532Z",
          "shell.execute_reply": "2021-10-20T09:34:55.113846Z",
          "shell.execute_reply.started": "2021-10-20T09:34:54.940005Z"
        },
        "id": "Z_9nhrsfrL0E"
      },
      "outputs": [],
      "source": [
        "# hapus data/outliers tsb \n",
        "train = train.drop(train[train['dropoff_latitude']>90].index, axis=0)"
      ]
    },
    {
      "cell_type": "code",
      "execution_count": null,
      "metadata": {
        "_uuid": "4c424b2380714d9549d4483884d977a76ab02b35",
        "execution": {
          "iopub.execute_input": "2021-10-20T09:35:04.486920Z",
          "iopub.status.busy": "2021-10-20T09:35:04.486357Z",
          "iopub.status.idle": "2021-10-20T09:35:04.492896Z",
          "shell.execute_reply": "2021-10-20T09:35:04.492115Z",
          "shell.execute_reply.started": "2021-10-20T09:35:04.486854Z"
        },
        "id": "c-12Z_7PrL0E"
      },
      "outputs": [],
      "source": [
        "#8 kolom terhapus\n",
        "train.shape"
      ]
    },
    {
      "cell_type": "markdown",
      "metadata": {
        "_uuid": "d3d025ae4622a6954436b15ef933b505b0b1a18d",
        "id": "aymhCLbZrL0F"
      },
      "source": [
        "**Periksa tipe data setiap kolom data train**"
      ]
    },
    {
      "cell_type": "code",
      "execution_count": null,
      "metadata": {
        "_kg_hide-output": true,
        "_uuid": "5ba1db209e2253c7c22db60634241c175dff6b21",
        "execution": {
          "iopub.execute_input": "2021-10-20T09:46:17.746593Z",
          "iopub.status.busy": "2021-10-20T09:46:17.746261Z",
          "iopub.status.idle": "2021-10-20T09:46:17.753993Z",
          "shell.execute_reply": "2021-10-20T09:46:17.753076Z",
          "shell.execute_reply.started": "2021-10-20T09:46:17.746508Z"
        },
        "id": "VppFH3T2rL0F"
      },
      "outputs": [],
      "source": [
        "train.dtypes"
      ]
    },
    {
      "cell_type": "markdown",
      "metadata": {
        "_uuid": "f89b184f3cbbeb867a098e270ec089a36b8ee771",
        "id": "Aj4oAma6rL0F"
      },
      "source": [
        "key and pickup_datetime tampaknya menjadi kolom datetime yang dalam format objek. Mari kita ubah menjadi datetime:"
      ]
    },
    {
      "cell_type": "code",
      "execution_count": null,
      "metadata": {
        "id": "7UB4JhWArL0G"
      },
      "outputs": [],
      "source": [
        "train['key'] = pd.to_datetime(train['key'])\n",
        "train['pickup_datetime']  = pd.to_datetime(train['pickup_datetime'])"
      ]
    },
    {
      "cell_type": "code",
      "execution_count": null,
      "metadata": {
        "_kg_hide-output": true,
        "_uuid": "31e56c5a630e56e4677843e4af5993f9fbb2194d",
        "execution": {
          "iopub.execute_input": "2021-10-20T09:53:02.272395Z",
          "iopub.status.busy": "2021-10-20T09:53:02.271906Z",
          "iopub.status.idle": "2021-10-20T09:53:02.280599Z",
          "shell.execute_reply": "2021-10-20T09:53:02.279666Z",
          "shell.execute_reply.started": "2021-10-20T09:53:02.272175Z"
        },
        "id": "VTgdRbG-rL0G"
      },
      "outputs": [],
      "source": [
        "#cek tipe data tsb setelah di konversi\n",
        "train.dtypes"
      ]
    },
    {
      "cell_type": "code",
      "execution_count": null,
      "metadata": {
        "_kg_hide-output": true,
        "_uuid": "d8d14f0ae02f77f01907dbe5cc0d297091414b43",
        "execution": {
          "iopub.execute_input": "2021-10-20T09:53:50.301684Z",
          "iopub.status.busy": "2021-10-20T09:53:50.301110Z",
          "iopub.status.idle": "2021-10-20T09:53:50.335331Z",
          "shell.execute_reply": "2021-10-20T09:53:50.334429Z",
          "shell.execute_reply.started": "2021-10-20T09:53:50.301626Z"
        },
        "id": "Egx6nv2TrL0G"
      },
      "outputs": [],
      "source": [
        "#cek data train setelah di cleansing\n",
        "train.head()"
      ]
    },
    {
      "cell_type": "markdown",
      "metadata": {
        "id": "Rr3GEa2frL0H"
      },
      "source": [
        "**Data sudah selesai di cleansing, dan selanjutnya siap untuk di masukkan kedalam model machine learning :)**"
      ]
    },
    {
      "cell_type": "markdown",
      "metadata": {
        "_uuid": "b1eeb9d0345aa40e7f56abecf9d31160c5d54e6c",
        "id": "ext9hEaLrL0H"
      },
      "source": [
        "## BAGIAN 2 : TRANSFORMASI DATA DENGAN TIPE KATEGORI**\n",
        "\n",
        "Pada bagian ini, Anda akan mempraktikan cara untuk :\n",
        "* Melakukan transformasi terhadap data yang bersifat kategori "
      ]
    },
    {
      "cell_type": "markdown",
      "metadata": {
        "id": "xGgw9Y3JrL0I"
      },
      "source": [
        "### Dataset 2\n",
        "\n",
        "Dataset yang akan Anda gunakan pada bagian ini adalah data sensus penduduk. Dataset ini memiliki jumlah sebanyak 48842 data dengan 15 fitur. "
      ]
    },
    {
      "cell_type": "code",
      "execution_count": 48,
      "metadata": {
        "id": "Q_GSHsMGrL0I"
      },
      "outputs": [],
      "source": [
        "from sklearn.preprocessing import OrdinalEncoder\n",
        "import matplotlib.pyplot as plt\n",
        "%matplotlib inline\n",
        "from scipy.stats import ttest_ind, ttest_rel\n",
        "from scipy import stats"
      ]
    },
    {
      "cell_type": "code",
      "execution_count": 3,
      "metadata": {
        "id": "MG5Hz7RprL0J",
        "colab": {
          "base_uri": "https://localhost:8080/"
        },
        "outputId": "039d1003-4781-431b-8b36-28414f2a6635"
      },
      "outputs": [
        {
          "output_type": "stream",
          "name": "stdout",
          "text": [
            "Number of rows: 48842, number of features: 15\n"
          ]
        }
      ],
      "source": [
        "data = pd.read_csv(\"https://gitlab.com/andreass.bayu/file-directory/-/raw/main/adult.csv\", na_values=\"?\" )\n",
        "print('Number of rows: '+ format(data.shape[0]) +', number of features: '+ format(data.shape[1]))"
      ]
    },
    {
      "cell_type": "code",
      "execution_count": 4,
      "metadata": {
        "id": "drgWwxY2rL0K",
        "colab": {
          "base_uri": "https://localhost:8080/",
          "height": 563
        },
        "outputId": "66f7ed33-12e9-4677-9187-4f48fc8afd9c"
      },
      "outputs": [
        {
          "output_type": "execute_result",
          "data": {
            "text/plain": [
              "   age         workclass  fnlwgt     education  educational-num  \\\n",
              "0   25           Private  226802          11th                7   \n",
              "1   38           Private   89814       HS-grad                9   \n",
              "2   28         Local-gov  336951    Assoc-acdm               12   \n",
              "3   44           Private  160323  Some-college               10   \n",
              "4   18               NaN  103497  Some-college               10   \n",
              "5   34           Private  198693          10th                6   \n",
              "6   29               NaN  227026       HS-grad                9   \n",
              "7   63  Self-emp-not-inc  104626   Prof-school               15   \n",
              "8   24           Private  369667  Some-college               10   \n",
              "9   55           Private  104996       7th-8th                4   \n",
              "\n",
              "       marital-status         occupation   relationship   race  gender  \\\n",
              "0       Never-married  Machine-op-inspct      Own-child  Black    Male   \n",
              "1  Married-civ-spouse    Farming-fishing        Husband  White    Male   \n",
              "2  Married-civ-spouse    Protective-serv        Husband  White    Male   \n",
              "3  Married-civ-spouse  Machine-op-inspct        Husband  Black    Male   \n",
              "4       Never-married                NaN      Own-child  White  Female   \n",
              "5       Never-married      Other-service  Not-in-family  White    Male   \n",
              "6       Never-married                NaN      Unmarried  Black    Male   \n",
              "7  Married-civ-spouse     Prof-specialty        Husband  White    Male   \n",
              "8       Never-married      Other-service      Unmarried  White  Female   \n",
              "9  Married-civ-spouse       Craft-repair        Husband  White    Male   \n",
              "\n",
              "   capital-gain  capital-loss  hours-per-week native-country income  \n",
              "0             0             0              40  United-States  <=50K  \n",
              "1             0             0              50  United-States  <=50K  \n",
              "2             0             0              40  United-States   >50K  \n",
              "3          7688             0              40  United-States   >50K  \n",
              "4             0             0              30  United-States  <=50K  \n",
              "5             0             0              30  United-States  <=50K  \n",
              "6             0             0              40  United-States  <=50K  \n",
              "7          3103             0              32  United-States   >50K  \n",
              "8             0             0              40  United-States  <=50K  \n",
              "9             0             0              10  United-States  <=50K  "
            ],
            "text/html": [
              "\n",
              "  <div id=\"df-e9a9f649-b3f6-492f-a7e2-e919d2ef25af\">\n",
              "    <div class=\"colab-df-container\">\n",
              "      <div>\n",
              "<style scoped>\n",
              "    .dataframe tbody tr th:only-of-type {\n",
              "        vertical-align: middle;\n",
              "    }\n",
              "\n",
              "    .dataframe tbody tr th {\n",
              "        vertical-align: top;\n",
              "    }\n",
              "\n",
              "    .dataframe thead th {\n",
              "        text-align: right;\n",
              "    }\n",
              "</style>\n",
              "<table border=\"1\" class=\"dataframe\">\n",
              "  <thead>\n",
              "    <tr style=\"text-align: right;\">\n",
              "      <th></th>\n",
              "      <th>age</th>\n",
              "      <th>workclass</th>\n",
              "      <th>fnlwgt</th>\n",
              "      <th>education</th>\n",
              "      <th>educational-num</th>\n",
              "      <th>marital-status</th>\n",
              "      <th>occupation</th>\n",
              "      <th>relationship</th>\n",
              "      <th>race</th>\n",
              "      <th>gender</th>\n",
              "      <th>capital-gain</th>\n",
              "      <th>capital-loss</th>\n",
              "      <th>hours-per-week</th>\n",
              "      <th>native-country</th>\n",
              "      <th>income</th>\n",
              "    </tr>\n",
              "  </thead>\n",
              "  <tbody>\n",
              "    <tr>\n",
              "      <th>0</th>\n",
              "      <td>25</td>\n",
              "      <td>Private</td>\n",
              "      <td>226802</td>\n",
              "      <td>11th</td>\n",
              "      <td>7</td>\n",
              "      <td>Never-married</td>\n",
              "      <td>Machine-op-inspct</td>\n",
              "      <td>Own-child</td>\n",
              "      <td>Black</td>\n",
              "      <td>Male</td>\n",
              "      <td>0</td>\n",
              "      <td>0</td>\n",
              "      <td>40</td>\n",
              "      <td>United-States</td>\n",
              "      <td>&lt;=50K</td>\n",
              "    </tr>\n",
              "    <tr>\n",
              "      <th>1</th>\n",
              "      <td>38</td>\n",
              "      <td>Private</td>\n",
              "      <td>89814</td>\n",
              "      <td>HS-grad</td>\n",
              "      <td>9</td>\n",
              "      <td>Married-civ-spouse</td>\n",
              "      <td>Farming-fishing</td>\n",
              "      <td>Husband</td>\n",
              "      <td>White</td>\n",
              "      <td>Male</td>\n",
              "      <td>0</td>\n",
              "      <td>0</td>\n",
              "      <td>50</td>\n",
              "      <td>United-States</td>\n",
              "      <td>&lt;=50K</td>\n",
              "    </tr>\n",
              "    <tr>\n",
              "      <th>2</th>\n",
              "      <td>28</td>\n",
              "      <td>Local-gov</td>\n",
              "      <td>336951</td>\n",
              "      <td>Assoc-acdm</td>\n",
              "      <td>12</td>\n",
              "      <td>Married-civ-spouse</td>\n",
              "      <td>Protective-serv</td>\n",
              "      <td>Husband</td>\n",
              "      <td>White</td>\n",
              "      <td>Male</td>\n",
              "      <td>0</td>\n",
              "      <td>0</td>\n",
              "      <td>40</td>\n",
              "      <td>United-States</td>\n",
              "      <td>&gt;50K</td>\n",
              "    </tr>\n",
              "    <tr>\n",
              "      <th>3</th>\n",
              "      <td>44</td>\n",
              "      <td>Private</td>\n",
              "      <td>160323</td>\n",
              "      <td>Some-college</td>\n",
              "      <td>10</td>\n",
              "      <td>Married-civ-spouse</td>\n",
              "      <td>Machine-op-inspct</td>\n",
              "      <td>Husband</td>\n",
              "      <td>Black</td>\n",
              "      <td>Male</td>\n",
              "      <td>7688</td>\n",
              "      <td>0</td>\n",
              "      <td>40</td>\n",
              "      <td>United-States</td>\n",
              "      <td>&gt;50K</td>\n",
              "    </tr>\n",
              "    <tr>\n",
              "      <th>4</th>\n",
              "      <td>18</td>\n",
              "      <td>NaN</td>\n",
              "      <td>103497</td>\n",
              "      <td>Some-college</td>\n",
              "      <td>10</td>\n",
              "      <td>Never-married</td>\n",
              "      <td>NaN</td>\n",
              "      <td>Own-child</td>\n",
              "      <td>White</td>\n",
              "      <td>Female</td>\n",
              "      <td>0</td>\n",
              "      <td>0</td>\n",
              "      <td>30</td>\n",
              "      <td>United-States</td>\n",
              "      <td>&lt;=50K</td>\n",
              "    </tr>\n",
              "    <tr>\n",
              "      <th>5</th>\n",
              "      <td>34</td>\n",
              "      <td>Private</td>\n",
              "      <td>198693</td>\n",
              "      <td>10th</td>\n",
              "      <td>6</td>\n",
              "      <td>Never-married</td>\n",
              "      <td>Other-service</td>\n",
              "      <td>Not-in-family</td>\n",
              "      <td>White</td>\n",
              "      <td>Male</td>\n",
              "      <td>0</td>\n",
              "      <td>0</td>\n",
              "      <td>30</td>\n",
              "      <td>United-States</td>\n",
              "      <td>&lt;=50K</td>\n",
              "    </tr>\n",
              "    <tr>\n",
              "      <th>6</th>\n",
              "      <td>29</td>\n",
              "      <td>NaN</td>\n",
              "      <td>227026</td>\n",
              "      <td>HS-grad</td>\n",
              "      <td>9</td>\n",
              "      <td>Never-married</td>\n",
              "      <td>NaN</td>\n",
              "      <td>Unmarried</td>\n",
              "      <td>Black</td>\n",
              "      <td>Male</td>\n",
              "      <td>0</td>\n",
              "      <td>0</td>\n",
              "      <td>40</td>\n",
              "      <td>United-States</td>\n",
              "      <td>&lt;=50K</td>\n",
              "    </tr>\n",
              "    <tr>\n",
              "      <th>7</th>\n",
              "      <td>63</td>\n",
              "      <td>Self-emp-not-inc</td>\n",
              "      <td>104626</td>\n",
              "      <td>Prof-school</td>\n",
              "      <td>15</td>\n",
              "      <td>Married-civ-spouse</td>\n",
              "      <td>Prof-specialty</td>\n",
              "      <td>Husband</td>\n",
              "      <td>White</td>\n",
              "      <td>Male</td>\n",
              "      <td>3103</td>\n",
              "      <td>0</td>\n",
              "      <td>32</td>\n",
              "      <td>United-States</td>\n",
              "      <td>&gt;50K</td>\n",
              "    </tr>\n",
              "    <tr>\n",
              "      <th>8</th>\n",
              "      <td>24</td>\n",
              "      <td>Private</td>\n",
              "      <td>369667</td>\n",
              "      <td>Some-college</td>\n",
              "      <td>10</td>\n",
              "      <td>Never-married</td>\n",
              "      <td>Other-service</td>\n",
              "      <td>Unmarried</td>\n",
              "      <td>White</td>\n",
              "      <td>Female</td>\n",
              "      <td>0</td>\n",
              "      <td>0</td>\n",
              "      <td>40</td>\n",
              "      <td>United-States</td>\n",
              "      <td>&lt;=50K</td>\n",
              "    </tr>\n",
              "    <tr>\n",
              "      <th>9</th>\n",
              "      <td>55</td>\n",
              "      <td>Private</td>\n",
              "      <td>104996</td>\n",
              "      <td>7th-8th</td>\n",
              "      <td>4</td>\n",
              "      <td>Married-civ-spouse</td>\n",
              "      <td>Craft-repair</td>\n",
              "      <td>Husband</td>\n",
              "      <td>White</td>\n",
              "      <td>Male</td>\n",
              "      <td>0</td>\n",
              "      <td>0</td>\n",
              "      <td>10</td>\n",
              "      <td>United-States</td>\n",
              "      <td>&lt;=50K</td>\n",
              "    </tr>\n",
              "  </tbody>\n",
              "</table>\n",
              "</div>\n",
              "      <button class=\"colab-df-convert\" onclick=\"convertToInteractive('df-e9a9f649-b3f6-492f-a7e2-e919d2ef25af')\"\n",
              "              title=\"Convert this dataframe to an interactive table.\"\n",
              "              style=\"display:none;\">\n",
              "        \n",
              "  <svg xmlns=\"http://www.w3.org/2000/svg\" height=\"24px\"viewBox=\"0 0 24 24\"\n",
              "       width=\"24px\">\n",
              "    <path d=\"M0 0h24v24H0V0z\" fill=\"none\"/>\n",
              "    <path d=\"M18.56 5.44l.94 2.06.94-2.06 2.06-.94-2.06-.94-.94-2.06-.94 2.06-2.06.94zm-11 1L8.5 8.5l.94-2.06 2.06-.94-2.06-.94L8.5 2.5l-.94 2.06-2.06.94zm10 10l.94 2.06.94-2.06 2.06-.94-2.06-.94-.94-2.06-.94 2.06-2.06.94z\"/><path d=\"M17.41 7.96l-1.37-1.37c-.4-.4-.92-.59-1.43-.59-.52 0-1.04.2-1.43.59L10.3 9.45l-7.72 7.72c-.78.78-.78 2.05 0 2.83L4 21.41c.39.39.9.59 1.41.59.51 0 1.02-.2 1.41-.59l7.78-7.78 2.81-2.81c.8-.78.8-2.07 0-2.86zM5.41 20L4 18.59l7.72-7.72 1.47 1.35L5.41 20z\"/>\n",
              "  </svg>\n",
              "      </button>\n",
              "      \n",
              "  <style>\n",
              "    .colab-df-container {\n",
              "      display:flex;\n",
              "      flex-wrap:wrap;\n",
              "      gap: 12px;\n",
              "    }\n",
              "\n",
              "    .colab-df-convert {\n",
              "      background-color: #E8F0FE;\n",
              "      border: none;\n",
              "      border-radius: 50%;\n",
              "      cursor: pointer;\n",
              "      display: none;\n",
              "      fill: #1967D2;\n",
              "      height: 32px;\n",
              "      padding: 0 0 0 0;\n",
              "      width: 32px;\n",
              "    }\n",
              "\n",
              "    .colab-df-convert:hover {\n",
              "      background-color: #E2EBFA;\n",
              "      box-shadow: 0px 1px 2px rgba(60, 64, 67, 0.3), 0px 1px 3px 1px rgba(60, 64, 67, 0.15);\n",
              "      fill: #174EA6;\n",
              "    }\n",
              "\n",
              "    [theme=dark] .colab-df-convert {\n",
              "      background-color: #3B4455;\n",
              "      fill: #D2E3FC;\n",
              "    }\n",
              "\n",
              "    [theme=dark] .colab-df-convert:hover {\n",
              "      background-color: #434B5C;\n",
              "      box-shadow: 0px 1px 3px 1px rgba(0, 0, 0, 0.15);\n",
              "      filter: drop-shadow(0px 1px 2px rgba(0, 0, 0, 0.3));\n",
              "      fill: #FFFFFF;\n",
              "    }\n",
              "  </style>\n",
              "\n",
              "      <script>\n",
              "        const buttonEl =\n",
              "          document.querySelector('#df-e9a9f649-b3f6-492f-a7e2-e919d2ef25af button.colab-df-convert');\n",
              "        buttonEl.style.display =\n",
              "          google.colab.kernel.accessAllowed ? 'block' : 'none';\n",
              "\n",
              "        async function convertToInteractive(key) {\n",
              "          const element = document.querySelector('#df-e9a9f649-b3f6-492f-a7e2-e919d2ef25af');\n",
              "          const dataTable =\n",
              "            await google.colab.kernel.invokeFunction('convertToInteractive',\n",
              "                                                     [key], {});\n",
              "          if (!dataTable) return;\n",
              "\n",
              "          const docLinkHtml = 'Like what you see? Visit the ' +\n",
              "            '<a target=\"_blank\" href=https://colab.research.google.com/notebooks/data_table.ipynb>data table notebook</a>'\n",
              "            + ' to learn more about interactive tables.';\n",
              "          element.innerHTML = '';\n",
              "          dataTable['output_type'] = 'display_data';\n",
              "          await google.colab.output.renderOutput(dataTable, element);\n",
              "          const docLink = document.createElement('div');\n",
              "          docLink.innerHTML = docLinkHtml;\n",
              "          element.appendChild(docLink);\n",
              "        }\n",
              "      </script>\n",
              "    </div>\n",
              "  </div>\n",
              "  "
            ]
          },
          "metadata": {},
          "execution_count": 4
        }
      ],
      "source": [
        "data.head(10)"
      ]
    },
    {
      "cell_type": "code",
      "execution_count": null,
      "metadata": {
        "id": "50AR0FxzrL0K",
        "colab": {
          "base_uri": "https://localhost:8080/"
        },
        "outputId": "d4a963cb-24e4-4fcb-a0c4-dc8b925e2e23"
      },
      "outputs": [
        {
          "output_type": "stream",
          "name": "stdout",
          "text": [
            "The number of missing entries before cleaning: 0.88244 %\n"
          ]
        }
      ],
      "source": [
        "## mengecek apakah terdapat nilai NA pada dataset\n",
        "\n",
        "C = (data.dtypes == 'object')\n",
        "CategoricalVariables = list(C[C].index)\n",
        "\n",
        "Integer = (data.dtypes == 'int64') \n",
        "Float   = (data.dtypes == 'float64') \n",
        "NumericVariables = list(Integer[Integer].index) + list(Float[Float].index)\n",
        "\n",
        "Missing_Percentage = (data.isnull().sum()).sum()/np.product(data.shape)*100\n",
        "print(\"The number of missing entries before cleaning: \" + str(round(Missing_Percentage,5)) + \" %\")"
      ]
    },
    {
      "cell_type": "code",
      "execution_count": null,
      "metadata": {
        "id": "6SL8TKworL0L",
        "colab": {
          "base_uri": "https://localhost:8080/"
        },
        "outputId": "b0ee20cc-1458-445c-cbee-fe34b5d5ed3f"
      },
      "outputs": [
        {
          "output_type": "execute_result",
          "data": {
            "text/plain": [
              "['age',\n",
              " 'workclass',\n",
              " 'fnlwgt',\n",
              " 'education',\n",
              " 'educational-num',\n",
              " 'marital-status',\n",
              " 'occupation',\n",
              " 'relationship',\n",
              " 'race',\n",
              " 'gender',\n",
              " 'capital-gain',\n",
              " 'capital-loss',\n",
              " 'hours-per-week',\n",
              " 'native-country',\n",
              " 'income']"
            ]
          },
          "metadata": {},
          "execution_count": 7
        }
      ],
      "source": [
        "## menampilkan seluruh list fitur yang ada\n",
        "list(data.columns)"
      ]
    },
    {
      "cell_type": "code",
      "execution_count": null,
      "metadata": {
        "id": "rtPaMB-4rL0L"
      },
      "outputs": [],
      "source": [
        "data.dtypes"
      ]
    },
    {
      "cell_type": "code",
      "execution_count": null,
      "metadata": {
        "id": "VZ3TGiSorL0M"
      },
      "outputs": [],
      "source": [
        "data.education.unique()"
      ]
    },
    {
      "cell_type": "code",
      "execution_count": null,
      "metadata": {
        "id": "XzCp1KuprL0N"
      },
      "outputs": [],
      "source": [
        "data.native-country.unique()"
      ]
    },
    {
      "cell_type": "code",
      "execution_count": null,
      "metadata": {
        "id": "lUUyZt37rL0O"
      },
      "outputs": [],
      "source": [
        "##melakukan proses rename kolom\n",
        "dataRename = data.rename(columns={'marital-status': 'maritalStatus'})"
      ]
    },
    {
      "cell_type": "code",
      "execution_count": null,
      "metadata": {
        "id": "IDpsUJtFrL0O"
      },
      "outputs": [],
      "source": [
        "dataRename.head(5)"
      ]
    },
    {
      "cell_type": "code",
      "execution_count": null,
      "metadata": {
        "id": "nF6ewRYzrL0O"
      },
      "outputs": [],
      "source": [
        "## Kode untuk melakukan transformasi untuk kolom marital_status dengan fungsi maping\n",
        "\n",
        "maritalStatus_map  = {'Never-married':0,'Married-civ-spouse':1,'Widowed':2, 'Divorced':3,'Separated':4,'Married-spouse-absent':5,'Married-AF-spouse':6}\n",
        "\n",
        "dataRename['maritalStatus'] = dataRename['maritalStatus'].map(maritalStatus_map)\n",
        "dataRename.head()"
      ]
    },
    {
      "cell_type": "code",
      "execution_count": 49,
      "metadata": {
        "id": "AKW1o7VprL0P",
        "colab": {
          "base_uri": "https://localhost:8080/",
          "height": 337
        },
        "outputId": "e82afb01-7405-44f5-ba6b-e974a78b1c9d"
      },
      "outputs": [
        {
          "output_type": "execute_result",
          "data": {
            "text/plain": [
              "   age  workclass  fnlwgt     education  educational-num      marital-status  \\\n",
              "0   25    Private  226802          11th                7       Never-married   \n",
              "1   38    Private   89814       HS-grad                9  Married-civ-spouse   \n",
              "2   28  Local-gov  336951    Assoc-acdm               12  Married-civ-spouse   \n",
              "3   44    Private  160323  Some-college               10  Married-civ-spouse   \n",
              "5   34    Private  198693          10th                6       Never-married   \n",
              "\n",
              "          occupation   relationship   race gender  capital-gain  capital-loss  \\\n",
              "0  Machine-op-inspct      Own-child  Black   Male             0             0   \n",
              "1    Farming-fishing        Husband  White   Male             0             0   \n",
              "2    Protective-serv        Husband  White   Male             0             0   \n",
              "3  Machine-op-inspct        Husband  Black   Male          7688             0   \n",
              "5      Other-service  Not-in-family  White   Male             0             0   \n",
              "\n",
              "   hoursPerWeek native-country income  race_encoded  \n",
              "0            40  United-States  <=50K             2  \n",
              "1            50  United-States  <=50K             4  \n",
              "2            40  United-States   >50K             4  \n",
              "3            40  United-States   >50K             2  \n",
              "5            30  United-States  <=50K             4  "
            ],
            "text/html": [
              "\n",
              "  <div id=\"df-0bddd22b-2a56-49d3-9e5f-05ff335d7f72\">\n",
              "    <div class=\"colab-df-container\">\n",
              "      <div>\n",
              "<style scoped>\n",
              "    .dataframe tbody tr th:only-of-type {\n",
              "        vertical-align: middle;\n",
              "    }\n",
              "\n",
              "    .dataframe tbody tr th {\n",
              "        vertical-align: top;\n",
              "    }\n",
              "\n",
              "    .dataframe thead th {\n",
              "        text-align: right;\n",
              "    }\n",
              "</style>\n",
              "<table border=\"1\" class=\"dataframe\">\n",
              "  <thead>\n",
              "    <tr style=\"text-align: right;\">\n",
              "      <th></th>\n",
              "      <th>age</th>\n",
              "      <th>workclass</th>\n",
              "      <th>fnlwgt</th>\n",
              "      <th>education</th>\n",
              "      <th>educational-num</th>\n",
              "      <th>marital-status</th>\n",
              "      <th>occupation</th>\n",
              "      <th>relationship</th>\n",
              "      <th>race</th>\n",
              "      <th>gender</th>\n",
              "      <th>capital-gain</th>\n",
              "      <th>capital-loss</th>\n",
              "      <th>hoursPerWeek</th>\n",
              "      <th>native-country</th>\n",
              "      <th>income</th>\n",
              "      <th>race_encoded</th>\n",
              "    </tr>\n",
              "  </thead>\n",
              "  <tbody>\n",
              "    <tr>\n",
              "      <th>0</th>\n",
              "      <td>25</td>\n",
              "      <td>Private</td>\n",
              "      <td>226802</td>\n",
              "      <td>11th</td>\n",
              "      <td>7</td>\n",
              "      <td>Never-married</td>\n",
              "      <td>Machine-op-inspct</td>\n",
              "      <td>Own-child</td>\n",
              "      <td>Black</td>\n",
              "      <td>Male</td>\n",
              "      <td>0</td>\n",
              "      <td>0</td>\n",
              "      <td>40</td>\n",
              "      <td>United-States</td>\n",
              "      <td>&lt;=50K</td>\n",
              "      <td>2</td>\n",
              "    </tr>\n",
              "    <tr>\n",
              "      <th>1</th>\n",
              "      <td>38</td>\n",
              "      <td>Private</td>\n",
              "      <td>89814</td>\n",
              "      <td>HS-grad</td>\n",
              "      <td>9</td>\n",
              "      <td>Married-civ-spouse</td>\n",
              "      <td>Farming-fishing</td>\n",
              "      <td>Husband</td>\n",
              "      <td>White</td>\n",
              "      <td>Male</td>\n",
              "      <td>0</td>\n",
              "      <td>0</td>\n",
              "      <td>50</td>\n",
              "      <td>United-States</td>\n",
              "      <td>&lt;=50K</td>\n",
              "      <td>4</td>\n",
              "    </tr>\n",
              "    <tr>\n",
              "      <th>2</th>\n",
              "      <td>28</td>\n",
              "      <td>Local-gov</td>\n",
              "      <td>336951</td>\n",
              "      <td>Assoc-acdm</td>\n",
              "      <td>12</td>\n",
              "      <td>Married-civ-spouse</td>\n",
              "      <td>Protective-serv</td>\n",
              "      <td>Husband</td>\n",
              "      <td>White</td>\n",
              "      <td>Male</td>\n",
              "      <td>0</td>\n",
              "      <td>0</td>\n",
              "      <td>40</td>\n",
              "      <td>United-States</td>\n",
              "      <td>&gt;50K</td>\n",
              "      <td>4</td>\n",
              "    </tr>\n",
              "    <tr>\n",
              "      <th>3</th>\n",
              "      <td>44</td>\n",
              "      <td>Private</td>\n",
              "      <td>160323</td>\n",
              "      <td>Some-college</td>\n",
              "      <td>10</td>\n",
              "      <td>Married-civ-spouse</td>\n",
              "      <td>Machine-op-inspct</td>\n",
              "      <td>Husband</td>\n",
              "      <td>Black</td>\n",
              "      <td>Male</td>\n",
              "      <td>7688</td>\n",
              "      <td>0</td>\n",
              "      <td>40</td>\n",
              "      <td>United-States</td>\n",
              "      <td>&gt;50K</td>\n",
              "      <td>2</td>\n",
              "    </tr>\n",
              "    <tr>\n",
              "      <th>5</th>\n",
              "      <td>34</td>\n",
              "      <td>Private</td>\n",
              "      <td>198693</td>\n",
              "      <td>10th</td>\n",
              "      <td>6</td>\n",
              "      <td>Never-married</td>\n",
              "      <td>Other-service</td>\n",
              "      <td>Not-in-family</td>\n",
              "      <td>White</td>\n",
              "      <td>Male</td>\n",
              "      <td>0</td>\n",
              "      <td>0</td>\n",
              "      <td>30</td>\n",
              "      <td>United-States</td>\n",
              "      <td>&lt;=50K</td>\n",
              "      <td>4</td>\n",
              "    </tr>\n",
              "  </tbody>\n",
              "</table>\n",
              "</div>\n",
              "      <button class=\"colab-df-convert\" onclick=\"convertToInteractive('df-0bddd22b-2a56-49d3-9e5f-05ff335d7f72')\"\n",
              "              title=\"Convert this dataframe to an interactive table.\"\n",
              "              style=\"display:none;\">\n",
              "        \n",
              "  <svg xmlns=\"http://www.w3.org/2000/svg\" height=\"24px\"viewBox=\"0 0 24 24\"\n",
              "       width=\"24px\">\n",
              "    <path d=\"M0 0h24v24H0V0z\" fill=\"none\"/>\n",
              "    <path d=\"M18.56 5.44l.94 2.06.94-2.06 2.06-.94-2.06-.94-.94-2.06-.94 2.06-2.06.94zm-11 1L8.5 8.5l.94-2.06 2.06-.94-2.06-.94L8.5 2.5l-.94 2.06-2.06.94zm10 10l.94 2.06.94-2.06 2.06-.94-2.06-.94-.94-2.06-.94 2.06-2.06.94z\"/><path d=\"M17.41 7.96l-1.37-1.37c-.4-.4-.92-.59-1.43-.59-.52 0-1.04.2-1.43.59L10.3 9.45l-7.72 7.72c-.78.78-.78 2.05 0 2.83L4 21.41c.39.39.9.59 1.41.59.51 0 1.02-.2 1.41-.59l7.78-7.78 2.81-2.81c.8-.78.8-2.07 0-2.86zM5.41 20L4 18.59l7.72-7.72 1.47 1.35L5.41 20z\"/>\n",
              "  </svg>\n",
              "      </button>\n",
              "      \n",
              "  <style>\n",
              "    .colab-df-container {\n",
              "      display:flex;\n",
              "      flex-wrap:wrap;\n",
              "      gap: 12px;\n",
              "    }\n",
              "\n",
              "    .colab-df-convert {\n",
              "      background-color: #E8F0FE;\n",
              "      border: none;\n",
              "      border-radius: 50%;\n",
              "      cursor: pointer;\n",
              "      display: none;\n",
              "      fill: #1967D2;\n",
              "      height: 32px;\n",
              "      padding: 0 0 0 0;\n",
              "      width: 32px;\n",
              "    }\n",
              "\n",
              "    .colab-df-convert:hover {\n",
              "      background-color: #E2EBFA;\n",
              "      box-shadow: 0px 1px 2px rgba(60, 64, 67, 0.3), 0px 1px 3px 1px rgba(60, 64, 67, 0.15);\n",
              "      fill: #174EA6;\n",
              "    }\n",
              "\n",
              "    [theme=dark] .colab-df-convert {\n",
              "      background-color: #3B4455;\n",
              "      fill: #D2E3FC;\n",
              "    }\n",
              "\n",
              "    [theme=dark] .colab-df-convert:hover {\n",
              "      background-color: #434B5C;\n",
              "      box-shadow: 0px 1px 3px 1px rgba(0, 0, 0, 0.15);\n",
              "      filter: drop-shadow(0px 1px 2px rgba(0, 0, 0, 0.3));\n",
              "      fill: #FFFFFF;\n",
              "    }\n",
              "  </style>\n",
              "\n",
              "      <script>\n",
              "        const buttonEl =\n",
              "          document.querySelector('#df-0bddd22b-2a56-49d3-9e5f-05ff335d7f72 button.colab-df-convert');\n",
              "        buttonEl.style.display =\n",
              "          google.colab.kernel.accessAllowed ? 'block' : 'none';\n",
              "\n",
              "        async function convertToInteractive(key) {\n",
              "          const element = document.querySelector('#df-0bddd22b-2a56-49d3-9e5f-05ff335d7f72');\n",
              "          const dataTable =\n",
              "            await google.colab.kernel.invokeFunction('convertToInteractive',\n",
              "                                                     [key], {});\n",
              "          if (!dataTable) return;\n",
              "\n",
              "          const docLinkHtml = 'Like what you see? Visit the ' +\n",
              "            '<a target=\"_blank\" href=https://colab.research.google.com/notebooks/data_table.ipynb>data table notebook</a>'\n",
              "            + ' to learn more about interactive tables.';\n",
              "          element.innerHTML = '';\n",
              "          dataTable['output_type'] = 'display_data';\n",
              "          await google.colab.output.renderOutput(dataTable, element);\n",
              "          const docLink = document.createElement('div');\n",
              "          docLink.innerHTML = docLinkHtml;\n",
              "          element.appendChild(docLink);\n",
              "        }\n",
              "      </script>\n",
              "    </div>\n",
              "  </div>\n",
              "  "
            ]
          },
          "metadata": {},
          "execution_count": 49
        }
      ],
      "source": [
        "## Kode untuk melakukan transformasi untuk kolom marital_status dengan fungsi cat.codes\n",
        "dataRename[\"race\"] = dataRename[\"race\"].astype('category')\n",
        "dataRename[\"race_encoded\"] = dataRename[\"race\"].cat.codes\n",
        "dataRename.head()"
      ]
    },
    {
      "cell_type": "code",
      "execution_count": null,
      "metadata": {
        "id": "6BgDQ5T6rL0P"
      },
      "outputs": [],
      "source": [
        "## Kode untuk melakukan transformasi untuk kolom marital_status dengan fungsi Ordinal Encoder dari library sklearn\n",
        "ord_enc = OrdinalEncoder()\n",
        "dataRename[\"gender\"] = ord_enc.fit_transform(dataRename[[\"gender\"]])\n",
        "dataRename[[\"gender\", \"gender\"]].head(10)"
      ]
    },
    {
      "cell_type": "code",
      "execution_count": null,
      "metadata": {
        "id": "d4CPZMsErL0P"
      },
      "outputs": [],
      "source": [
        "dataRename['maritalStatus'].hist(figsize=(8,8))\n",
        "plt.show()"
      ]
    },
    {
      "cell_type": "code",
      "execution_count": null,
      "metadata": {
        "id": "bM30ZRB0rL0Q"
      },
      "outputs": [],
      "source": [
        "dataRename = dataRename.rename(columns={'capital-gain': 'capitalGain'})\n",
        "dataRename['capitalGain'].describe()"
      ]
    },
    {
      "cell_type": "code",
      "execution_count": null,
      "metadata": {
        "id": "guYKuw26rL0Q"
      },
      "outputs": [],
      "source": [
        "dataRename.head(5)"
      ]
    },
    {
      "cell_type": "code",
      "execution_count": null,
      "metadata": {
        "id": "mMIRgFkqrL0R"
      },
      "outputs": [],
      "source": [
        "dataRename.race.unique()"
      ]
    },
    {
      "cell_type": "code",
      "execution_count": null,
      "metadata": {
        "id": "hClpEuMkrL0R"
      },
      "outputs": [],
      "source": [
        "race1 = dataRename[dataRename[\"race_encoded\"] == 1]\n",
        "race2 = dataRename[dataRename[\"race_encoded\"] == 2]\n",
        "race3 = dataRename[dataRename[\"race_encoded\"] == 3]\n",
        "race4 = dataRename[dataRename[\"race_encoded\"] == 4]\n",
        "race5 = dataRename[dataRename[\"race_encoded\"] == 5]"
      ]
    },
    {
      "cell_type": "code",
      "execution_count": null,
      "metadata": {
        "id": "aVbNdfwVrL0R"
      },
      "outputs": [],
      "source": [
        "race2.dtypes"
      ]
    },
    {
      "cell_type": "code",
      "execution_count": null,
      "metadata": {
        "id": "irooP45FrL0S"
      },
      "outputs": [],
      "source": [
        "race1.head(10)"
      ]
    },
    {
      "cell_type": "code",
      "execution_count": null,
      "metadata": {
        "id": "CQ9v73h6rL0S"
      },
      "outputs": [],
      "source": [
        "plt.figure(figsize=(7,7))\n",
        "total = float(len(race4))\n",
        "\n",
        "ax = sns.countplot(x=\"income\", data=race4[race4[\"age\"]>70])\n",
        "for p in ax.patches:\n",
        "    height = p.get_height()\n",
        "    ax.text(p.get_x()+p.get_width()/2.,\n",
        "            height + 3,\n",
        "            '{:1.2f}'.format((height/total)*100),\n",
        "            ha=\"center\") \n",
        "plt.show()"
      ]
    },
    {
      "cell_type": "code",
      "execution_count": null,
      "metadata": {
        "id": "1vNsvNUXrL0S"
      },
      "outputs": [],
      "source": [
        "fig = plt.figure(figsize=(10,10)) \n",
        "sns.boxplot(x=\"income\", y=\"age\", data=race3)\n",
        "plt.show()"
      ]
    },
    {
      "cell_type": "markdown",
      "metadata": {
        "id": "db0imtqwrL0T"
      },
      "source": [
        "### Instruksi Praktikum untuk mahasiswa FIKTI dan FTI (kecuali Teknik Industri, Teknik Mesin dan Agroteknologi)\n",
        "\n",
        "* Lakukan teknik data cleaning untuk data yang bernilai NaN pada Dataset 2. \n",
        "* Lakukan analisis histogram kolom income pada setiap kategori race, apakah yang dapat Anda simpulkan ?\n",
        "* Ganti kolom hours-per-week dengan nama hoursPerWeek\n",
        "* Berapa jumlah responden yang bekerja lebih dari 40 jam per minggunya untuk masing-masing kategori race?  "
      ]
    },
    {
      "cell_type": "markdown",
      "source": [
        "#1. Cleansing data yang bernilai NaN pada Dataset 2"
      ],
      "metadata": {
        "id": "MaaHdECHdI0v"
      }
    },
    {
      "cell_type": "code",
      "source": [
        "data.isnull().sum().sort_values(ascending=False)"
      ],
      "metadata": {
        "colab": {
          "base_uri": "https://localhost:8080/"
        },
        "id": "dErOXJNAcY2-",
        "outputId": "aa7bd1d8-53c6-49fb-9543-e7bb6b8ffd64"
      },
      "execution_count": 5,
      "outputs": [
        {
          "output_type": "execute_result",
          "data": {
            "text/plain": [
              "occupation         2809\n",
              "workclass          2799\n",
              "native-country      857\n",
              "age                   0\n",
              "fnlwgt                0\n",
              "education             0\n",
              "educational-num       0\n",
              "marital-status        0\n",
              "relationship          0\n",
              "race                  0\n",
              "gender                0\n",
              "capital-gain          0\n",
              "capital-loss          0\n",
              "hours-per-week        0\n",
              "income                0\n",
              "dtype: int64"
            ]
          },
          "metadata": {},
          "execution_count": 5
        }
      ]
    },
    {
      "cell_type": "code",
      "source": [
        "data = data.drop(data[data.isnull().any(1)].index, axis = 0)"
      ],
      "metadata": {
        "id": "qkiOgsrpctJz"
      },
      "execution_count": 6,
      "outputs": []
    },
    {
      "cell_type": "code",
      "source": [
        "data.shape"
      ],
      "metadata": {
        "colab": {
          "base_uri": "https://localhost:8080/"
        },
        "id": "kDQdIfKBc_dD",
        "outputId": "cc7ece20-4ace-46b5-fc50-42a9f0f550a8"
      },
      "execution_count": 7,
      "outputs": [
        {
          "output_type": "execute_result",
          "data": {
            "text/plain": [
              "(45222, 15)"
            ]
          },
          "metadata": {},
          "execution_count": 7
        }
      ]
    },
    {
      "cell_type": "markdown",
      "source": [
        "#2 Analisis histogram kolom income pada setiap kategori race"
      ],
      "metadata": {
        "id": "1vTBSWpodNGg"
      }
    },
    {
      "cell_type": "code",
      "source": [
        "plt.figure(figsize=(10,8))\n",
        "plt.hist(data['race'])\n",
        "plt.xlabel('race', fontsize = 15)\n",
        "plt.ylabel('income', fontsize = 15)\n",
        "plt.show()"
      ],
      "metadata": {
        "colab": {
          "base_uri": "https://localhost:8080/",
          "height": 502
        },
        "id": "ZHIFQIg8dT06",
        "outputId": "e9e29240-7e4a-4951-ec5c-bca318f133e3"
      },
      "execution_count": 14,
      "outputs": [
        {
          "output_type": "display_data",
          "data": {
            "text/plain": [
              "<Figure size 720x576 with 1 Axes>"
            ],
            "image/png": "[encoded data removed]"
          },
          "metadata": {
            "needs_background": "light"
          }
        }
      ]
    },
    {
      "cell_type": "code",
      "source": [
        "plt.figure(figsize=(7,7))\n",
        "total = float(len(data) )\n",
        "\n",
        "ax = sns.countplot(x=\"income\", data=data)\n",
        "for p in ax.patches:\n",
        "    height = p.get_height()\n",
        "    ax.text(p.get_x()+p.get_width()/2.,\n",
        "            height + 3,\n",
        "            '{:1.2f}'.format((height/total)*100),\n",
        "            ha=\"center\") \n",
        "plt.show()"
      ],
      "metadata": {
        "colab": {
          "base_uri": "https://localhost:8080/",
          "height": 442
        },
        "id": "lKBJL7n3UrQF",
        "outputId": "667eea34-22a2-4364-d83f-4c2e73559648"
      },
      "execution_count": 54,
      "outputs": [
        {
          "output_type": "display_data",
          "data": {
            "text/plain": [
              "<Figure size 504x504 with 1 Axes>"
            ],
            "image/png": "[encoded data removed]"
          },
          "metadata": {
            "needs_background": "light"
          }
        }
      ]
    },
    {
      "cell_type": "code",
      "source": [
        "g = sns.catplot(x=\"income\", col=\"race\",data=data, kind=\"count\",height=5, aspect=.7);"
      ],
      "metadata": {
        "colab": {
          "base_uri": "https://localhost:8080/",
          "height": 369
        },
        "id": "swOkIP2NV6Z-",
        "outputId": "cd15dcd8-c023-4db4-e3fd-b0c0773e3268"
      },
      "execution_count": 59,
      "outputs": [
        {
          "output_type": "display_data",
          "data": {
            "text/plain": [
              "<Figure size 1260x360 with 5 Axes>"
            ],
            "image/png": "[encoded data removed]"
          },
          "metadata": {
            "needs_background": "light"
          }
        }
      ]
    },
    {
      "cell_type": "markdown",
      "source": [
        "###Kesimpulan\n",
        "Berdasarkan histogram di atas, dapat disimpulkan sebagai berikut:\n",
        "\n",
        "\n",
        "1.   Race \"White\" memiliki income yang paling besar diantara race yang ada pada dataset tersebut\n",
        "2.   Terdapat perbedaan income yang jauh antara \"White\" race dengan race yang ada pada dataset tersebut \n",
        "3. Hanya white race yang memiliki income di atas 5000\n",
        "\n"
      ],
      "metadata": {
        "id": "IzqKBu7XeUW3"
      }
    },
    {
      "cell_type": "markdown",
      "source": [
        "#3. Ganti kolom hours-per-week dengan nama hoursPerWeek"
      ],
      "metadata": {
        "id": "UdkRwlvtHkVj"
      }
    },
    {
      "cell_type": "code",
      "source": [
        "dataRename = data.rename(columns={'hours-per-week': 'hoursPerWeek'})"
      ],
      "metadata": {
        "id": "H60jNkMsHsLp"
      },
      "execution_count": 15,
      "outputs": []
    },
    {
      "cell_type": "code",
      "source": [
        "dataRename.head(5)"
      ],
      "metadata": {
        "colab": {
          "base_uri": "https://localhost:8080/",
          "height": 250
        },
        "id": "LW0orj13H2dm",
        "outputId": "7711fe86-95b3-4b30-ab39-f6c84fa252c4"
      },
      "execution_count": 16,
      "outputs": [
        {
          "output_type": "execute_result",
          "data": {
            "text/plain": [
              "   age  workclass  fnlwgt     education  educational-num      marital-status  \\\n",
              "0   25    Private  226802          11th                7       Never-married   \n",
              "1   38    Private   89814       HS-grad                9  Married-civ-spouse   \n",
              "2   28  Local-gov  336951    Assoc-acdm               12  Married-civ-spouse   \n",
              "3   44    Private  160323  Some-college               10  Married-civ-spouse   \n",
              "5   34    Private  198693          10th                6       Never-married   \n",
              "\n",
              "          occupation   relationship   race gender  capital-gain  capital-loss  \\\n",
              "0  Machine-op-inspct      Own-child  Black   Male             0             0   \n",
              "1    Farming-fishing        Husband  White   Male             0             0   \n",
              "2    Protective-serv        Husband  White   Male             0             0   \n",
              "3  Machine-op-inspct        Husband  Black   Male          7688             0   \n",
              "5      Other-service  Not-in-family  White   Male             0             0   \n",
              "\n",
              "   hoursPerWeek native-country income  \n",
              "0            40  United-States  <=50K  \n",
              "1            50  United-States  <=50K  \n",
              "2            40  United-States   >50K  \n",
              "3            40  United-States   >50K  \n",
              "5            30  United-States  <=50K  "
            ],
            "text/html": [
              "\n",
              "  <div id=\"df-ea8336fd-94cd-4b52-92bd-0a8a37cbfb02\">\n",
              "    <div class=\"colab-df-container\">\n",
              "      <div>\n",
              "<style scoped>\n",
              "    .dataframe tbody tr th:only-of-type {\n",
              "        vertical-align: middle;\n",
              "    }\n",
              "\n",
              "    .dataframe tbody tr th {\n",
              "        vertical-align: top;\n",
              "    }\n",
              "\n",
              "    .dataframe thead th {\n",
              "        text-align: right;\n",
              "    }\n",
              "</style>\n",
              "<table border=\"1\" class=\"dataframe\">\n",
              "  <thead>\n",
              "    <tr style=\"text-align: right;\">\n",
              "      <th></th>\n",
              "      <th>age</th>\n",
              "      <th>workclass</th>\n",
              "      <th>fnlwgt</th>\n",
              "      <th>education</th>\n",
              "      <th>educational-num</th>\n",
              "      <th>marital-status</th>\n",
              "      <th>occupation</th>\n",
              "      <th>relationship</th>\n",
              "      <th>race</th>\n",
              "      <th>gender</th>\n",
              "      <th>capital-gain</th>\n",
              "      <th>capital-loss</th>\n",
              "      <th>hoursPerWeek</th>\n",
              "      <th>native-country</th>\n",
              "      <th>income</th>\n",
              "    </tr>\n",
              "  </thead>\n",
              "  <tbody>\n",
              "    <tr>\n",
              "      <th>0</th>\n",
              "      <td>25</td>\n",
              "      <td>Private</td>\n",
              "      <td>226802</td>\n",
              "      <td>11th</td>\n",
              "      <td>7</td>\n",
              "      <td>Never-married</td>\n",
              "      <td>Machine-op-inspct</td>\n",
              "      <td>Own-child</td>\n",
              "      <td>Black</td>\n",
              "      <td>Male</td>\n",
              "      <td>0</td>\n",
              "      <td>0</td>\n",
              "      <td>40</td>\n",
              "      <td>United-States</td>\n",
              "      <td>&lt;=50K</td>\n",
              "    </tr>\n",
              "    <tr>\n",
              "      <th>1</th>\n",
              "      <td>38</td>\n",
              "      <td>Private</td>\n",
              "      <td>89814</td>\n",
              "      <td>HS-grad</td>\n",
              "      <td>9</td>\n",
              "      <td>Married-civ-spouse</td>\n",
              "      <td>Farming-fishing</td>\n",
              "      <td>Husband</td>\n",
              "      <td>White</td>\n",
              "      <td>Male</td>\n",
              "      <td>0</td>\n",
              "      <td>0</td>\n",
              "      <td>50</td>\n",
              "      <td>United-States</td>\n",
              "      <td>&lt;=50K</td>\n",
              "    </tr>\n",
              "    <tr>\n",
              "      <th>2</th>\n",
              "      <td>28</td>\n",
              "      <td>Local-gov</td>\n",
              "      <td>336951</td>\n",
              "      <td>Assoc-acdm</td>\n",
              "      <td>12</td>\n",
              "      <td>Married-civ-spouse</td>\n",
              "      <td>Protective-serv</td>\n",
              "      <td>Husband</td>\n",
              "      <td>White</td>\n",
              "      <td>Male</td>\n",
              "      <td>0</td>\n",
              "      <td>0</td>\n",
              "      <td>40</td>\n",
              "      <td>United-States</td>\n",
              "      <td>&gt;50K</td>\n",
              "    </tr>\n",
              "    <tr>\n",
              "      <th>3</th>\n",
              "      <td>44</td>\n",
              "      <td>Private</td>\n",
              "      <td>160323</td>\n",
              "      <td>Some-college</td>\n",
              "      <td>10</td>\n",
              "      <td>Married-civ-spouse</td>\n",
              "      <td>Machine-op-inspct</td>\n",
              "      <td>Husband</td>\n",
              "      <td>Black</td>\n",
              "      <td>Male</td>\n",
              "      <td>7688</td>\n",
              "      <td>0</td>\n",
              "      <td>40</td>\n",
              "      <td>United-States</td>\n",
              "      <td>&gt;50K</td>\n",
              "    </tr>\n",
              "    <tr>\n",
              "      <th>5</th>\n",
              "      <td>34</td>\n",
              "      <td>Private</td>\n",
              "      <td>198693</td>\n",
              "      <td>10th</td>\n",
              "      <td>6</td>\n",
              "      <td>Never-married</td>\n",
              "      <td>Other-service</td>\n",
              "      <td>Not-in-family</td>\n",
              "      <td>White</td>\n",
              "      <td>Male</td>\n",
              "      <td>0</td>\n",
              "      <td>0</td>\n",
              "      <td>30</td>\n",
              "      <td>United-States</td>\n",
              "      <td>&lt;=50K</td>\n",
              "    </tr>\n",
              "  </tbody>\n",
              "</table>\n",
              "</div>\n",
              "      <button class=\"colab-df-convert\" onclick=\"convertToInteractive('df-ea8336fd-94cd-4b52-92bd-0a8a37cbfb02')\"\n",
              "              title=\"Convert this dataframe to an interactive table.\"\n",
              "              style=\"display:none;\">\n",
              "        \n",
              "  <svg xmlns=\"http://www.w3.org/2000/svg\" height=\"24px\"viewBox=\"0 0 24 24\"\n",
              "       width=\"24px\">\n",
              "    <path d=\"M0 0h24v24H0V0z\" fill=\"none\"/>\n",
              "    <path d=\"M18.56 5.44l.94 2.06.94-2.06 2.06-.94-2.06-.94-.94-2.06-.94 2.06-2.06.94zm-11 1L8.5 8.5l.94-2.06 2.06-.94-2.06-.94L8.5 2.5l-.94 2.06-2.06.94zm10 10l.94 2.06.94-2.06 2.06-.94-2.06-.94-.94-2.06-.94 2.06-2.06.94z\"/><path d=\"M17.41 7.96l-1.37-1.37c-.4-.4-.92-.59-1.43-.59-.52 0-1.04.2-1.43.59L10.3 9.45l-7.72 7.72c-.78.78-.78 2.05 0 2.83L4 21.41c.39.39.9.59 1.41.59.51 0 1.02-.2 1.41-.59l7.78-7.78 2.81-2.81c.8-.78.8-2.07 0-2.86zM5.41 20L4 18.59l7.72-7.72 1.47 1.35L5.41 20z\"/>\n",
              "  </svg>\n",
              "      </button>\n",
              "      \n",
              "  <style>\n",
              "    .colab-df-container {\n",
              "      display:flex;\n",
              "      flex-wrap:wrap;\n",
              "      gap: 12px;\n",
              "    }\n",
              "\n",
              "    .colab-df-convert {\n",
              "      background-color: #E8F0FE;\n",
              "      border: none;\n",
              "      border-radius: 50%;\n",
              "      cursor: pointer;\n",
              "      display: none;\n",
              "      fill: #1967D2;\n",
              "      height: 32px;\n",
              "      padding: 0 0 0 0;\n",
              "      width: 32px;\n",
              "    }\n",
              "\n",
              "    .colab-df-convert:hover {\n",
              "      background-color: #E2EBFA;\n",
              "      box-shadow: 0px 1px 2px rgba(60, 64, 67, 0.3), 0px 1px 3px 1px rgba(60, 64, 67, 0.15);\n",
              "      fill: #174EA6;\n",
              "    }\n",
              "\n",
              "    [theme=dark] .colab-df-convert {\n",
              "      background-color: #3B4455;\n",
              "      fill: #D2E3FC;\n",
              "    }\n",
              "\n",
              "    [theme=dark] .colab-df-convert:hover {\n",
              "      background-color: #434B5C;\n",
              "      box-shadow: 0px 1px 3px 1px rgba(0, 0, 0, 0.15);\n",
              "      filter: drop-shadow(0px 1px 2px rgba(0, 0, 0, 0.3));\n",
              "      fill: #FFFFFF;\n",
              "    }\n",
              "  </style>\n",
              "\n",
              "      <script>\n",
              "        const buttonEl =\n",
              "          document.querySelector('#df-ea8336fd-94cd-4b52-92bd-0a8a37cbfb02 button.colab-df-convert');\n",
              "        buttonEl.style.display =\n",
              "          google.colab.kernel.accessAllowed ? 'block' : 'none';\n",
              "\n",
              "        async function convertToInteractive(key) {\n",
              "          const element = document.querySelector('#df-ea8336fd-94cd-4b52-92bd-0a8a37cbfb02');\n",
              "          const dataTable =\n",
              "            await google.colab.kernel.invokeFunction('convertToInteractive',\n",
              "                                                     [key], {});\n",
              "          if (!dataTable) return;\n",
              "\n",
              "          const docLinkHtml = 'Like what you see? Visit the ' +\n",
              "            '<a target=\"_blank\" href=https://colab.research.google.com/notebooks/data_table.ipynb>data table notebook</a>'\n",
              "            + ' to learn more about interactive tables.';\n",
              "          element.innerHTML = '';\n",
              "          dataTable['output_type'] = 'display_data';\n",
              "          await google.colab.output.renderOutput(dataTable, element);\n",
              "          const docLink = document.createElement('div');\n",
              "          docLink.innerHTML = docLinkHtml;\n",
              "          element.appendChild(docLink);\n",
              "        }\n",
              "      </script>\n",
              "    </div>\n",
              "  </div>\n",
              "  "
            ]
          },
          "metadata": {},
          "execution_count": 16
        }
      ]
    },
    {
      "cell_type": "markdown",
      "source": [
        "#4. Berapa jumlah responden yang bekerja lebih dari 40 jam per minggunya untuk masing-masing kategori race?"
      ],
      "metadata": {
        "id": "57vIn7L_IKgE"
      }
    },
    {
      "cell_type": "code",
      "source": [
        "# hoursPerWeek > 40\n",
        "datahp= dataRename[dataRename['hoursPerWeek']>40]\n",
        "\n",
        "# White\n",
        "datawhite = datahp[datahp['race'] == 'White']\n",
        "print(\"White:\", len(datawhite.index))\n",
        "\n",
        "# Black\n",
        "datablack = datahp[datahp['race'] == 'Black']\n",
        "print(\"Black:\", len(datablack.index))\n",
        "\n",
        "# Others\n",
        "dataot = datahp[datahp['race'] == 'Others']\n",
        "print(\"Others:\", len(dataot.index))\n",
        "\n",
        "# Asian-Pac-Islander\n",
        "dataapi= datahp[datahp['race'] == 'Asian-Pac-Islander']\n",
        "print(\"Asian-Pac-Islander:\", len(dataapi.index))\n",
        "\n",
        "# Amer-Indian-Eskimo\n",
        "dataind= datahp[datahp['race'] == 'Amer-Indian-Eskimo']\n",
        "print(\"Amer-Indian-Eskimo:\", len(dataind.index))"
      ],
      "metadata": {
        "colab": {
          "base_uri": "https://localhost:8080/"
        },
        "id": "qYoqyhJJIP9W",
        "outputId": "b94ef861-e210-4837-ae61-2e26506ca8c8"
      },
      "execution_count": 46,
      "outputs": [
        {
          "output_type": "stream",
          "name": "stdout",
          "text": [
            "White: 12654\n",
            "Black: 654\n",
            "Others: 0\n",
            "Asian-Pac-Islander: 303\n",
            "Amer-Indian-Eskimo: 101\n"
          ]
        }
      ]
    }
  ],
  "metadata": {
    "colab": {
      "collapsed_sections": [
        "db0imtqwrL0T",
        "d6foAPlorL0T"
      ],
      "name": "praktikum_week_5.ipynb",
      "provenance": []
    },
    "kernelspec": {
      "display_name": "Python 3",
      "language": "python",
      "name": "python3"
    },
    "language_info": {
      "codemirror_mode": {
        "name": "ipython",
        "version": 3
      },
      "file_extension": ".py",
      "mimetype": "text/x-python",
      "name": "python",
      "nbconvert_exporter": "python",
      "pygments_lexer": "ipython3",
      "version": "3.6.9"
    }
  },
  "nbformat": 4,
  "nbformat_minor": 0
}